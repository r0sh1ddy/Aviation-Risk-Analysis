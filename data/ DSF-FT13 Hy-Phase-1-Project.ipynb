{
 "cells": [
  {
   "cell_type": "code",
   "execution_count": 1,
   "metadata": {},
   "outputs": [],
   "source": [
    "#importing libraries\n",
    "import pandas as pd\n",
    "import numpy as np\n",
    "from matplotlib import pyplot as plt\n",
    "import seaborn as sns"
   ]
  },
  {
   "cell_type": "code",
   "execution_count": 2,
   "metadata": {},
   "outputs": [
    {
     "data": {
      "text/html": [
       "<div>\n",
       "<style scoped>\n",
       "    .dataframe tbody tr th:only-of-type {\n",
       "        vertical-align: middle;\n",
       "    }\n",
       "\n",
       "    .dataframe tbody tr th {\n",
       "        vertical-align: top;\n",
       "    }\n",
       "\n",
       "    .dataframe thead th {\n",
       "        text-align: right;\n",
       "    }\n",
       "</style>\n",
       "<table border=\"1\" class=\"dataframe\">\n",
       "  <thead>\n",
       "    <tr style=\"text-align: right;\">\n",
       "      <th></th>\n",
       "      <th>Event.Id</th>\n",
       "      <th>Investigation.Type</th>\n",
       "      <th>Accident.Number</th>\n",
       "      <th>Event.Date</th>\n",
       "      <th>Location</th>\n",
       "      <th>Country</th>\n",
       "      <th>Latitude</th>\n",
       "      <th>Longitude</th>\n",
       "      <th>Airport.Code</th>\n",
       "      <th>Airport.Name</th>\n",
       "      <th>...</th>\n",
       "      <th>Purpose.of.flight</th>\n",
       "      <th>Air.carrier</th>\n",
       "      <th>Total.Fatal.Injuries</th>\n",
       "      <th>Total.Serious.Injuries</th>\n",
       "      <th>Total.Minor.Injuries</th>\n",
       "      <th>Total.Uninjured</th>\n",
       "      <th>Weather.Condition</th>\n",
       "      <th>Broad.phase.of.flight</th>\n",
       "      <th>Report.Status</th>\n",
       "      <th>Publication.Date</th>\n",
       "    </tr>\n",
       "  </thead>\n",
       "  <tbody>\n",
       "    <tr>\n",
       "      <th>0</th>\n",
       "      <td>20001218X45444</td>\n",
       "      <td>Accident</td>\n",
       "      <td>SEA87LA080</td>\n",
       "      <td>1948-10-24</td>\n",
       "      <td>MOOSE CREEK, ID</td>\n",
       "      <td>United States</td>\n",
       "      <td>NaN</td>\n",
       "      <td>NaN</td>\n",
       "      <td>NaN</td>\n",
       "      <td>NaN</td>\n",
       "      <td>...</td>\n",
       "      <td>Personal</td>\n",
       "      <td>NaN</td>\n",
       "      <td>2.0</td>\n",
       "      <td>0.0</td>\n",
       "      <td>0.0</td>\n",
       "      <td>0.0</td>\n",
       "      <td>UNK</td>\n",
       "      <td>Cruise</td>\n",
       "      <td>Probable Cause</td>\n",
       "      <td>NaN</td>\n",
       "    </tr>\n",
       "    <tr>\n",
       "      <th>1</th>\n",
       "      <td>20001218X45447</td>\n",
       "      <td>Accident</td>\n",
       "      <td>LAX94LA336</td>\n",
       "      <td>1962-07-19</td>\n",
       "      <td>BRIDGEPORT, CA</td>\n",
       "      <td>United States</td>\n",
       "      <td>NaN</td>\n",
       "      <td>NaN</td>\n",
       "      <td>NaN</td>\n",
       "      <td>NaN</td>\n",
       "      <td>...</td>\n",
       "      <td>Personal</td>\n",
       "      <td>NaN</td>\n",
       "      <td>4.0</td>\n",
       "      <td>0.0</td>\n",
       "      <td>0.0</td>\n",
       "      <td>0.0</td>\n",
       "      <td>UNK</td>\n",
       "      <td>Unknown</td>\n",
       "      <td>Probable Cause</td>\n",
       "      <td>19-09-1996</td>\n",
       "    </tr>\n",
       "    <tr>\n",
       "      <th>2</th>\n",
       "      <td>20061025X01555</td>\n",
       "      <td>Accident</td>\n",
       "      <td>NYC07LA005</td>\n",
       "      <td>1974-08-30</td>\n",
       "      <td>Saltville, VA</td>\n",
       "      <td>United States</td>\n",
       "      <td>36.922223</td>\n",
       "      <td>-81.878056</td>\n",
       "      <td>NaN</td>\n",
       "      <td>NaN</td>\n",
       "      <td>...</td>\n",
       "      <td>Personal</td>\n",
       "      <td>NaN</td>\n",
       "      <td>3.0</td>\n",
       "      <td>NaN</td>\n",
       "      <td>NaN</td>\n",
       "      <td>NaN</td>\n",
       "      <td>IMC</td>\n",
       "      <td>Cruise</td>\n",
       "      <td>Probable Cause</td>\n",
       "      <td>26-02-2007</td>\n",
       "    </tr>\n",
       "    <tr>\n",
       "      <th>3</th>\n",
       "      <td>20001218X45448</td>\n",
       "      <td>Accident</td>\n",
       "      <td>LAX96LA321</td>\n",
       "      <td>1977-06-19</td>\n",
       "      <td>EUREKA, CA</td>\n",
       "      <td>United States</td>\n",
       "      <td>NaN</td>\n",
       "      <td>NaN</td>\n",
       "      <td>NaN</td>\n",
       "      <td>NaN</td>\n",
       "      <td>...</td>\n",
       "      <td>Personal</td>\n",
       "      <td>NaN</td>\n",
       "      <td>2.0</td>\n",
       "      <td>0.0</td>\n",
       "      <td>0.0</td>\n",
       "      <td>0.0</td>\n",
       "      <td>IMC</td>\n",
       "      <td>Cruise</td>\n",
       "      <td>Probable Cause</td>\n",
       "      <td>12-09-2000</td>\n",
       "    </tr>\n",
       "    <tr>\n",
       "      <th>4</th>\n",
       "      <td>20041105X01764</td>\n",
       "      <td>Accident</td>\n",
       "      <td>CHI79FA064</td>\n",
       "      <td>1979-08-02</td>\n",
       "      <td>Canton, OH</td>\n",
       "      <td>United States</td>\n",
       "      <td>NaN</td>\n",
       "      <td>NaN</td>\n",
       "      <td>NaN</td>\n",
       "      <td>NaN</td>\n",
       "      <td>...</td>\n",
       "      <td>Personal</td>\n",
       "      <td>NaN</td>\n",
       "      <td>1.0</td>\n",
       "      <td>2.0</td>\n",
       "      <td>NaN</td>\n",
       "      <td>0.0</td>\n",
       "      <td>VMC</td>\n",
       "      <td>Approach</td>\n",
       "      <td>Probable Cause</td>\n",
       "      <td>16-04-1980</td>\n",
       "    </tr>\n",
       "  </tbody>\n",
       "</table>\n",
       "<p>5 rows × 31 columns</p>\n",
       "</div>"
      ],
      "text/plain": [
       "         Event.Id Investigation.Type Accident.Number  Event.Date  \\\n",
       "0  20001218X45444           Accident      SEA87LA080  1948-10-24   \n",
       "1  20001218X45447           Accident      LAX94LA336  1962-07-19   \n",
       "2  20061025X01555           Accident      NYC07LA005  1974-08-30   \n",
       "3  20001218X45448           Accident      LAX96LA321  1977-06-19   \n",
       "4  20041105X01764           Accident      CHI79FA064  1979-08-02   \n",
       "\n",
       "          Location        Country   Latitude   Longitude Airport.Code  \\\n",
       "0  MOOSE CREEK, ID  United States        NaN         NaN          NaN   \n",
       "1   BRIDGEPORT, CA  United States        NaN         NaN          NaN   \n",
       "2    Saltville, VA  United States  36.922223  -81.878056          NaN   \n",
       "3       EUREKA, CA  United States        NaN         NaN          NaN   \n",
       "4       Canton, OH  United States        NaN         NaN          NaN   \n",
       "\n",
       "  Airport.Name  ... Purpose.of.flight Air.carrier Total.Fatal.Injuries  \\\n",
       "0          NaN  ...          Personal         NaN                  2.0   \n",
       "1          NaN  ...          Personal         NaN                  4.0   \n",
       "2          NaN  ...          Personal         NaN                  3.0   \n",
       "3          NaN  ...          Personal         NaN                  2.0   \n",
       "4          NaN  ...          Personal         NaN                  1.0   \n",
       "\n",
       "  Total.Serious.Injuries Total.Minor.Injuries Total.Uninjured  \\\n",
       "0                    0.0                  0.0             0.0   \n",
       "1                    0.0                  0.0             0.0   \n",
       "2                    NaN                  NaN             NaN   \n",
       "3                    0.0                  0.0             0.0   \n",
       "4                    2.0                  NaN             0.0   \n",
       "\n",
       "  Weather.Condition  Broad.phase.of.flight   Report.Status Publication.Date  \n",
       "0               UNK                 Cruise  Probable Cause              NaN  \n",
       "1               UNK                Unknown  Probable Cause       19-09-1996  \n",
       "2               IMC                 Cruise  Probable Cause       26-02-2007  \n",
       "3               IMC                 Cruise  Probable Cause       12-09-2000  \n",
       "4               VMC               Approach  Probable Cause       16-04-1980  \n",
       "\n",
       "[5 rows x 31 columns]"
      ]
     },
     "execution_count": 2,
     "metadata": {},
     "output_type": "execute_result"
    }
   ],
   "source": [
    "#loading the dataset and asinging it to data then displaying the head\n",
    "data=pd.read_csv(\"aviation_dataset/AviationData.csv\",encoding='ISO-8859-1',low_memory=False)\n",
    "data.head()"
   ]
  },
  {
   "cell_type": "code",
   "execution_count": 3,
   "metadata": {},
   "outputs": [
    {
     "data": {
      "text/plain": [
       "(88889, 31)"
      ]
     },
     "execution_count": 3,
     "metadata": {},
     "output_type": "execute_result"
    }
   ],
   "source": [
    "#inspecting\n",
    "data.shape"
   ]
  },
  {
   "cell_type": "code",
   "execution_count": 4,
   "metadata": {},
   "outputs": [
    {
     "name": "stdout",
     "output_type": "stream",
     "text": [
      "<class 'pandas.core.frame.DataFrame'>\n",
      "RangeIndex: 88889 entries, 0 to 88888\n",
      "Data columns (total 31 columns):\n",
      " #   Column                  Non-Null Count  Dtype  \n",
      "---  ------                  --------------  -----  \n",
      " 0   Event.Id                88889 non-null  object \n",
      " 1   Investigation.Type      88889 non-null  object \n",
      " 2   Accident.Number         88889 non-null  object \n",
      " 3   Event.Date              88889 non-null  object \n",
      " 4   Location                88837 non-null  object \n",
      " 5   Country                 88663 non-null  object \n",
      " 6   Latitude                34382 non-null  object \n",
      " 7   Longitude               34373 non-null  object \n",
      " 8   Airport.Code            50249 non-null  object \n",
      " 9   Airport.Name            52790 non-null  object \n",
      " 10  Injury.Severity         87889 non-null  object \n",
      " 11  Aircraft.damage         85695 non-null  object \n",
      " 12  Aircraft.Category       32287 non-null  object \n",
      " 13  Registration.Number     87572 non-null  object \n",
      " 14  Make                    88826 non-null  object \n",
      " 15  Model                   88797 non-null  object \n",
      " 16  Amateur.Built           88787 non-null  object \n",
      " 17  Number.of.Engines       82805 non-null  float64\n",
      " 18  Engine.Type             81812 non-null  object \n",
      " 19  FAR.Description         32023 non-null  object \n",
      " 20  Schedule                12582 non-null  object \n",
      " 21  Purpose.of.flight       82697 non-null  object \n",
      " 22  Air.carrier             16648 non-null  object \n",
      " 23  Total.Fatal.Injuries    77488 non-null  float64\n",
      " 24  Total.Serious.Injuries  76379 non-null  float64\n",
      " 25  Total.Minor.Injuries    76956 non-null  float64\n",
      " 26  Total.Uninjured         82977 non-null  float64\n",
      " 27  Weather.Condition       84397 non-null  object \n",
      " 28  Broad.phase.of.flight   61724 non-null  object \n",
      " 29  Report.Status           82508 non-null  object \n",
      " 30  Publication.Date        75118 non-null  object \n",
      "dtypes: float64(5), object(26)\n",
      "memory usage: 21.0+ MB\n"
     ]
    }
   ],
   "source": [
    "#exploring the data\n",
    "data.info()"
   ]
  },
  {
   "cell_type": "code",
   "execution_count": 5,
   "metadata": {},
   "outputs": [
    {
     "data": {
      "text/html": [
       "<div>\n",
       "<style scoped>\n",
       "    .dataframe tbody tr th:only-of-type {\n",
       "        vertical-align: middle;\n",
       "    }\n",
       "\n",
       "    .dataframe tbody tr th {\n",
       "        vertical-align: top;\n",
       "    }\n",
       "\n",
       "    .dataframe thead th {\n",
       "        text-align: right;\n",
       "    }\n",
       "</style>\n",
       "<table border=\"1\" class=\"dataframe\">\n",
       "  <thead>\n",
       "    <tr style=\"text-align: right;\">\n",
       "      <th></th>\n",
       "      <th>Airport.Name</th>\n",
       "      <th>Injury.Severity</th>\n",
       "      <th>Aircraft.damage</th>\n",
       "      <th>Aircraft.Category</th>\n",
       "      <th>Registration.Number</th>\n",
       "      <th>Make</th>\n",
       "      <th>Model</th>\n",
       "      <th>Amateur.Built</th>\n",
       "      <th>Number.of.Engines</th>\n",
       "      <th>Engine.Type</th>\n",
       "      <th>FAR.Description</th>\n",
       "      <th>Schedule</th>\n",
       "    </tr>\n",
       "  </thead>\n",
       "  <tbody>\n",
       "    <tr>\n",
       "      <th>0</th>\n",
       "      <td>NaN</td>\n",
       "      <td>Fatal(2)</td>\n",
       "      <td>Destroyed</td>\n",
       "      <td>NaN</td>\n",
       "      <td>NC6404</td>\n",
       "      <td>Stinson</td>\n",
       "      <td>108-3</td>\n",
       "      <td>No</td>\n",
       "      <td>1.0</td>\n",
       "      <td>Reciprocating</td>\n",
       "      <td>NaN</td>\n",
       "      <td>NaN</td>\n",
       "    </tr>\n",
       "    <tr>\n",
       "      <th>1</th>\n",
       "      <td>NaN</td>\n",
       "      <td>Fatal(4)</td>\n",
       "      <td>Destroyed</td>\n",
       "      <td>NaN</td>\n",
       "      <td>N5069P</td>\n",
       "      <td>Piper</td>\n",
       "      <td>PA24-180</td>\n",
       "      <td>No</td>\n",
       "      <td>1.0</td>\n",
       "      <td>Reciprocating</td>\n",
       "      <td>NaN</td>\n",
       "      <td>NaN</td>\n",
       "    </tr>\n",
       "    <tr>\n",
       "      <th>2</th>\n",
       "      <td>NaN</td>\n",
       "      <td>Fatal(3)</td>\n",
       "      <td>Destroyed</td>\n",
       "      <td>NaN</td>\n",
       "      <td>N5142R</td>\n",
       "      <td>Cessna</td>\n",
       "      <td>172M</td>\n",
       "      <td>No</td>\n",
       "      <td>1.0</td>\n",
       "      <td>Reciprocating</td>\n",
       "      <td>NaN</td>\n",
       "      <td>NaN</td>\n",
       "    </tr>\n",
       "    <tr>\n",
       "      <th>3</th>\n",
       "      <td>NaN</td>\n",
       "      <td>Fatal(2)</td>\n",
       "      <td>Destroyed</td>\n",
       "      <td>NaN</td>\n",
       "      <td>N1168J</td>\n",
       "      <td>Rockwell</td>\n",
       "      <td>112</td>\n",
       "      <td>No</td>\n",
       "      <td>1.0</td>\n",
       "      <td>Reciprocating</td>\n",
       "      <td>NaN</td>\n",
       "      <td>NaN</td>\n",
       "    </tr>\n",
       "    <tr>\n",
       "      <th>4</th>\n",
       "      <td>NaN</td>\n",
       "      <td>Fatal(1)</td>\n",
       "      <td>Destroyed</td>\n",
       "      <td>NaN</td>\n",
       "      <td>N15NY</td>\n",
       "      <td>Cessna</td>\n",
       "      <td>501</td>\n",
       "      <td>No</td>\n",
       "      <td>NaN</td>\n",
       "      <td>NaN</td>\n",
       "      <td>NaN</td>\n",
       "      <td>NaN</td>\n",
       "    </tr>\n",
       "    <tr>\n",
       "      <th>...</th>\n",
       "      <td>...</td>\n",
       "      <td>...</td>\n",
       "      <td>...</td>\n",
       "      <td>...</td>\n",
       "      <td>...</td>\n",
       "      <td>...</td>\n",
       "      <td>...</td>\n",
       "      <td>...</td>\n",
       "      <td>...</td>\n",
       "      <td>...</td>\n",
       "      <td>...</td>\n",
       "      <td>...</td>\n",
       "    </tr>\n",
       "    <tr>\n",
       "      <th>88884</th>\n",
       "      <td>NaN</td>\n",
       "      <td>Minor</td>\n",
       "      <td>NaN</td>\n",
       "      <td>NaN</td>\n",
       "      <td>N1867H</td>\n",
       "      <td>PIPER</td>\n",
       "      <td>PA-28-151</td>\n",
       "      <td>No</td>\n",
       "      <td>NaN</td>\n",
       "      <td>NaN</td>\n",
       "      <td>091</td>\n",
       "      <td>NaN</td>\n",
       "    </tr>\n",
       "    <tr>\n",
       "      <th>88885</th>\n",
       "      <td>NaN</td>\n",
       "      <td>NaN</td>\n",
       "      <td>NaN</td>\n",
       "      <td>NaN</td>\n",
       "      <td>N2895Z</td>\n",
       "      <td>BELLANCA</td>\n",
       "      <td>7ECA</td>\n",
       "      <td>No</td>\n",
       "      <td>NaN</td>\n",
       "      <td>NaN</td>\n",
       "      <td>NaN</td>\n",
       "      <td>NaN</td>\n",
       "    </tr>\n",
       "    <tr>\n",
       "      <th>88886</th>\n",
       "      <td>PAYSON</td>\n",
       "      <td>Non-Fatal</td>\n",
       "      <td>Substantial</td>\n",
       "      <td>Airplane</td>\n",
       "      <td>N749PJ</td>\n",
       "      <td>AMERICAN CHAMPION AIRCRAFT</td>\n",
       "      <td>8GCBC</td>\n",
       "      <td>No</td>\n",
       "      <td>1.0</td>\n",
       "      <td>NaN</td>\n",
       "      <td>091</td>\n",
       "      <td>NaN</td>\n",
       "    </tr>\n",
       "    <tr>\n",
       "      <th>88887</th>\n",
       "      <td>NaN</td>\n",
       "      <td>NaN</td>\n",
       "      <td>NaN</td>\n",
       "      <td>NaN</td>\n",
       "      <td>N210CU</td>\n",
       "      <td>CESSNA</td>\n",
       "      <td>210N</td>\n",
       "      <td>No</td>\n",
       "      <td>NaN</td>\n",
       "      <td>NaN</td>\n",
       "      <td>091</td>\n",
       "      <td>NaN</td>\n",
       "    </tr>\n",
       "    <tr>\n",
       "      <th>88888</th>\n",
       "      <td>NaN</td>\n",
       "      <td>Minor</td>\n",
       "      <td>NaN</td>\n",
       "      <td>NaN</td>\n",
       "      <td>N9026P</td>\n",
       "      <td>PIPER</td>\n",
       "      <td>PA-24-260</td>\n",
       "      <td>No</td>\n",
       "      <td>NaN</td>\n",
       "      <td>NaN</td>\n",
       "      <td>091</td>\n",
       "      <td>NaN</td>\n",
       "    </tr>\n",
       "  </tbody>\n",
       "</table>\n",
       "<p>88889 rows × 12 columns</p>\n",
       "</div>"
      ],
      "text/plain": [
       "      Airport.Name Injury.Severity Aircraft.damage Aircraft.Category  \\\n",
       "0              NaN        Fatal(2)       Destroyed               NaN   \n",
       "1              NaN        Fatal(4)       Destroyed               NaN   \n",
       "2              NaN        Fatal(3)       Destroyed               NaN   \n",
       "3              NaN        Fatal(2)       Destroyed               NaN   \n",
       "4              NaN        Fatal(1)       Destroyed               NaN   \n",
       "...            ...             ...             ...               ...   \n",
       "88884          NaN           Minor             NaN               NaN   \n",
       "88885          NaN             NaN             NaN               NaN   \n",
       "88886       PAYSON       Non-Fatal     Substantial          Airplane   \n",
       "88887          NaN             NaN             NaN               NaN   \n",
       "88888          NaN           Minor             NaN               NaN   \n",
       "\n",
       "      Registration.Number                        Make      Model  \\\n",
       "0                  NC6404                     Stinson      108-3   \n",
       "1                  N5069P                       Piper   PA24-180   \n",
       "2                  N5142R                      Cessna       172M   \n",
       "3                  N1168J                    Rockwell        112   \n",
       "4                   N15NY                      Cessna        501   \n",
       "...                   ...                         ...        ...   \n",
       "88884              N1867H                       PIPER  PA-28-151   \n",
       "88885              N2895Z                    BELLANCA       7ECA   \n",
       "88886              N749PJ  AMERICAN CHAMPION AIRCRAFT      8GCBC   \n",
       "88887              N210CU                      CESSNA       210N   \n",
       "88888              N9026P                       PIPER  PA-24-260   \n",
       "\n",
       "      Amateur.Built  Number.of.Engines    Engine.Type FAR.Description Schedule  \n",
       "0                No                1.0  Reciprocating             NaN      NaN  \n",
       "1                No                1.0  Reciprocating             NaN      NaN  \n",
       "2                No                1.0  Reciprocating             NaN      NaN  \n",
       "3                No                1.0  Reciprocating             NaN      NaN  \n",
       "4                No                NaN            NaN             NaN      NaN  \n",
       "...             ...                ...            ...             ...      ...  \n",
       "88884            No                NaN            NaN             091      NaN  \n",
       "88885            No                NaN            NaN             NaN      NaN  \n",
       "88886            No                1.0            NaN             091      NaN  \n",
       "88887            No                NaN            NaN             091      NaN  \n",
       "88888            No                NaN            NaN             091      NaN  \n",
       "\n",
       "[88889 rows x 12 columns]"
      ]
     },
     "execution_count": 5,
     "metadata": {},
     "output_type": "execute_result"
    }
   ],
   "source": [
    "#exploring columns not displayed to to see whether the dypes match with infos\n",
    "data.iloc[:,9:21]"
   ]
  },
  {
   "cell_type": "code",
   "execution_count": 6,
   "metadata": {},
   "outputs": [
    {
     "data": {
      "text/plain": [
       "0        NaN\n",
       "1        NaN\n",
       "2        NaN\n",
       "3        NaN\n",
       "4        NaN\n",
       "        ... \n",
       "88884    091\n",
       "88885    NaN\n",
       "88886    091\n",
       "88887    091\n",
       "88888    091\n",
       "Name: FAR.Description, Length: 88889, dtype: object"
      ]
     },
     "execution_count": 6,
     "metadata": {},
     "output_type": "execute_result"
    }
   ],
   "source": [
    "#inspecting\n",
    "data['FAR.Description']"
   ]
  },
  {
   "cell_type": "code",
   "execution_count": 7,
   "metadata": {},
   "outputs": [
    {
     "data": {
      "text/plain": [
       "Index(['Event.Id', 'Investigation.Type', 'Accident.Number', 'Event.Date',\n",
       "       'Location', 'Country', 'Latitude', 'Longitude', 'Airport.Code',\n",
       "       'Airport.Name', 'Injury.Severity', 'Aircraft.damage',\n",
       "       'Aircraft.Category', 'Registration.Number', 'Make', 'Model',\n",
       "       'Amateur.Built', 'Number.of.Engines', 'Engine.Type', 'FAR.Description',\n",
       "       'Schedule', 'Purpose.of.flight', 'Air.carrier', 'Total.Fatal.Injuries',\n",
       "       'Total.Serious.Injuries', 'Total.Minor.Injuries', 'Total.Uninjured',\n",
       "       'Weather.Condition', 'Broad.phase.of.flight', 'Report.Status',\n",
       "       'Publication.Date'],\n",
       "      dtype='object')"
      ]
     },
     "execution_count": 7,
     "metadata": {},
     "output_type": "execute_result"
    }
   ],
   "source": [
    "#exploring data\n",
    "data.columns"
   ]
  },
  {
   "cell_type": "code",
   "execution_count": 8,
   "metadata": {},
   "outputs": [
    {
     "data": {
      "text/plain": [
       "Event.Id                      0\n",
       "Investigation.Type            0\n",
       "Accident.Number               0\n",
       "Event.Date                    0\n",
       "Location                     52\n",
       "Country                     226\n",
       "Latitude                  54507\n",
       "Longitude                 54516\n",
       "Airport.Code              38640\n",
       "Airport.Name              36099\n",
       "Injury.Severity            1000\n",
       "Aircraft.damage            3194\n",
       "Aircraft.Category         56602\n",
       "Registration.Number        1317\n",
       "Make                         63\n",
       "Model                        92\n",
       "Amateur.Built               102\n",
       "Number.of.Engines          6084\n",
       "Engine.Type                7077\n",
       "FAR.Description           56866\n",
       "Schedule                  76307\n",
       "Purpose.of.flight          6192\n",
       "Air.carrier               72241\n",
       "Total.Fatal.Injuries      11401\n",
       "Total.Serious.Injuries    12510\n",
       "Total.Minor.Injuries      11933\n",
       "Total.Uninjured            5912\n",
       "Weather.Condition          4492\n",
       "Broad.phase.of.flight     27165\n",
       "Report.Status              6381\n",
       "Publication.Date          13771\n",
       "dtype: int64"
      ]
     },
     "execution_count": 8,
     "metadata": {},
     "output_type": "execute_result"
    }
   ],
   "source": [
    "#checking for missing values\n",
    "data.isna().sum()"
   ]
  },
  {
   "cell_type": "code",
   "execution_count": 9,
   "metadata": {},
   "outputs": [
    {
     "data": {
      "text/plain": [
       "Event.Id                   0.000000\n",
       "Investigation.Type         0.000000\n",
       "Accident.Number            0.000000\n",
       "Event.Date                 0.000000\n",
       "Location                   0.058500\n",
       "Country                    0.254250\n",
       "Latitude                  61.320298\n",
       "Longitude                 61.330423\n",
       "Airport.Code              43.469946\n",
       "Airport.Name              40.611324\n",
       "Injury.Severity            1.124999\n",
       "Aircraft.damage            3.593246\n",
       "Aircraft.Category         63.677170\n",
       "Registration.Number        1.481623\n",
       "Make                       0.070875\n",
       "Model                      0.103500\n",
       "Amateur.Built              0.114750\n",
       "Number.of.Engines          6.844491\n",
       "Engine.Type                7.961615\n",
       "FAR.Description           63.974170\n",
       "Schedule                  85.845268\n",
       "Purpose.of.flight          6.965991\n",
       "Air.carrier               81.271023\n",
       "Total.Fatal.Injuries      12.826109\n",
       "Total.Serious.Injuries    14.073732\n",
       "Total.Minor.Injuries      13.424608\n",
       "Total.Uninjured            6.650992\n",
       "Weather.Condition          5.053494\n",
       "Broad.phase.of.flight     30.560587\n",
       "Report.Status              7.178616\n",
       "Publication.Date          15.492356\n",
       "dtype: float64"
      ]
     },
     "execution_count": 9,
     "metadata": {},
     "output_type": "execute_result"
    }
   ],
   "source": [
    "#checking for the % of misssing data\n",
    "data.isna().mean()*100"
   ]
  },
  {
   "cell_type": "code",
   "execution_count": 10,
   "metadata": {},
   "outputs": [],
   "source": [
    "#droping columns not so helpful in my analysis and with huge missing amounts of values - identifying them\n",
    "columns_to_drop=['Latitude','Longitude','Aircraft.Category','FAR.Description','Schedule','Air.carrier']"
   ]
  },
  {
   "cell_type": "code",
   "execution_count": 11,
   "metadata": {},
   "outputs": [
    {
     "data": {
      "text/html": [
       "<div>\n",
       "<style scoped>\n",
       "    .dataframe tbody tr th:only-of-type {\n",
       "        vertical-align: middle;\n",
       "    }\n",
       "\n",
       "    .dataframe tbody tr th {\n",
       "        vertical-align: top;\n",
       "    }\n",
       "\n",
       "    .dataframe thead th {\n",
       "        text-align: right;\n",
       "    }\n",
       "</style>\n",
       "<table border=\"1\" class=\"dataframe\">\n",
       "  <thead>\n",
       "    <tr style=\"text-align: right;\">\n",
       "      <th></th>\n",
       "      <th>Event.Id</th>\n",
       "      <th>Investigation.Type</th>\n",
       "      <th>Accident.Number</th>\n",
       "      <th>Event.Date</th>\n",
       "      <th>Location</th>\n",
       "      <th>Country</th>\n",
       "      <th>Airport.Code</th>\n",
       "      <th>Airport.Name</th>\n",
       "      <th>Injury.Severity</th>\n",
       "      <th>Aircraft.damage</th>\n",
       "      <th>...</th>\n",
       "      <th>Engine.Type</th>\n",
       "      <th>Purpose.of.flight</th>\n",
       "      <th>Total.Fatal.Injuries</th>\n",
       "      <th>Total.Serious.Injuries</th>\n",
       "      <th>Total.Minor.Injuries</th>\n",
       "      <th>Total.Uninjured</th>\n",
       "      <th>Weather.Condition</th>\n",
       "      <th>Broad.phase.of.flight</th>\n",
       "      <th>Report.Status</th>\n",
       "      <th>Publication.Date</th>\n",
       "    </tr>\n",
       "  </thead>\n",
       "  <tbody>\n",
       "    <tr>\n",
       "      <th>0</th>\n",
       "      <td>20001218X45444</td>\n",
       "      <td>Accident</td>\n",
       "      <td>SEA87LA080</td>\n",
       "      <td>1948-10-24</td>\n",
       "      <td>MOOSE CREEK, ID</td>\n",
       "      <td>United States</td>\n",
       "      <td>NaN</td>\n",
       "      <td>NaN</td>\n",
       "      <td>Fatal(2)</td>\n",
       "      <td>Destroyed</td>\n",
       "      <td>...</td>\n",
       "      <td>Reciprocating</td>\n",
       "      <td>Personal</td>\n",
       "      <td>2.0</td>\n",
       "      <td>0.0</td>\n",
       "      <td>0.0</td>\n",
       "      <td>0.0</td>\n",
       "      <td>UNK</td>\n",
       "      <td>Cruise</td>\n",
       "      <td>Probable Cause</td>\n",
       "      <td>NaN</td>\n",
       "    </tr>\n",
       "    <tr>\n",
       "      <th>1</th>\n",
       "      <td>20001218X45447</td>\n",
       "      <td>Accident</td>\n",
       "      <td>LAX94LA336</td>\n",
       "      <td>1962-07-19</td>\n",
       "      <td>BRIDGEPORT, CA</td>\n",
       "      <td>United States</td>\n",
       "      <td>NaN</td>\n",
       "      <td>NaN</td>\n",
       "      <td>Fatal(4)</td>\n",
       "      <td>Destroyed</td>\n",
       "      <td>...</td>\n",
       "      <td>Reciprocating</td>\n",
       "      <td>Personal</td>\n",
       "      <td>4.0</td>\n",
       "      <td>0.0</td>\n",
       "      <td>0.0</td>\n",
       "      <td>0.0</td>\n",
       "      <td>UNK</td>\n",
       "      <td>Unknown</td>\n",
       "      <td>Probable Cause</td>\n",
       "      <td>19-09-1996</td>\n",
       "    </tr>\n",
       "    <tr>\n",
       "      <th>2</th>\n",
       "      <td>20061025X01555</td>\n",
       "      <td>Accident</td>\n",
       "      <td>NYC07LA005</td>\n",
       "      <td>1974-08-30</td>\n",
       "      <td>Saltville, VA</td>\n",
       "      <td>United States</td>\n",
       "      <td>NaN</td>\n",
       "      <td>NaN</td>\n",
       "      <td>Fatal(3)</td>\n",
       "      <td>Destroyed</td>\n",
       "      <td>...</td>\n",
       "      <td>Reciprocating</td>\n",
       "      <td>Personal</td>\n",
       "      <td>3.0</td>\n",
       "      <td>NaN</td>\n",
       "      <td>NaN</td>\n",
       "      <td>NaN</td>\n",
       "      <td>IMC</td>\n",
       "      <td>Cruise</td>\n",
       "      <td>Probable Cause</td>\n",
       "      <td>26-02-2007</td>\n",
       "    </tr>\n",
       "    <tr>\n",
       "      <th>3</th>\n",
       "      <td>20001218X45448</td>\n",
       "      <td>Accident</td>\n",
       "      <td>LAX96LA321</td>\n",
       "      <td>1977-06-19</td>\n",
       "      <td>EUREKA, CA</td>\n",
       "      <td>United States</td>\n",
       "      <td>NaN</td>\n",
       "      <td>NaN</td>\n",
       "      <td>Fatal(2)</td>\n",
       "      <td>Destroyed</td>\n",
       "      <td>...</td>\n",
       "      <td>Reciprocating</td>\n",
       "      <td>Personal</td>\n",
       "      <td>2.0</td>\n",
       "      <td>0.0</td>\n",
       "      <td>0.0</td>\n",
       "      <td>0.0</td>\n",
       "      <td>IMC</td>\n",
       "      <td>Cruise</td>\n",
       "      <td>Probable Cause</td>\n",
       "      <td>12-09-2000</td>\n",
       "    </tr>\n",
       "    <tr>\n",
       "      <th>4</th>\n",
       "      <td>20041105X01764</td>\n",
       "      <td>Accident</td>\n",
       "      <td>CHI79FA064</td>\n",
       "      <td>1979-08-02</td>\n",
       "      <td>Canton, OH</td>\n",
       "      <td>United States</td>\n",
       "      <td>NaN</td>\n",
       "      <td>NaN</td>\n",
       "      <td>Fatal(1)</td>\n",
       "      <td>Destroyed</td>\n",
       "      <td>...</td>\n",
       "      <td>NaN</td>\n",
       "      <td>Personal</td>\n",
       "      <td>1.0</td>\n",
       "      <td>2.0</td>\n",
       "      <td>NaN</td>\n",
       "      <td>0.0</td>\n",
       "      <td>VMC</td>\n",
       "      <td>Approach</td>\n",
       "      <td>Probable Cause</td>\n",
       "      <td>16-04-1980</td>\n",
       "    </tr>\n",
       "    <tr>\n",
       "      <th>...</th>\n",
       "      <td>...</td>\n",
       "      <td>...</td>\n",
       "      <td>...</td>\n",
       "      <td>...</td>\n",
       "      <td>...</td>\n",
       "      <td>...</td>\n",
       "      <td>...</td>\n",
       "      <td>...</td>\n",
       "      <td>...</td>\n",
       "      <td>...</td>\n",
       "      <td>...</td>\n",
       "      <td>...</td>\n",
       "      <td>...</td>\n",
       "      <td>...</td>\n",
       "      <td>...</td>\n",
       "      <td>...</td>\n",
       "      <td>...</td>\n",
       "      <td>...</td>\n",
       "      <td>...</td>\n",
       "      <td>...</td>\n",
       "      <td>...</td>\n",
       "    </tr>\n",
       "    <tr>\n",
       "      <th>88884</th>\n",
       "      <td>20221227106491</td>\n",
       "      <td>Accident</td>\n",
       "      <td>ERA23LA093</td>\n",
       "      <td>2022-12-26</td>\n",
       "      <td>Annapolis, MD</td>\n",
       "      <td>United States</td>\n",
       "      <td>NaN</td>\n",
       "      <td>NaN</td>\n",
       "      <td>Minor</td>\n",
       "      <td>NaN</td>\n",
       "      <td>...</td>\n",
       "      <td>NaN</td>\n",
       "      <td>Personal</td>\n",
       "      <td>0.0</td>\n",
       "      <td>1.0</td>\n",
       "      <td>0.0</td>\n",
       "      <td>0.0</td>\n",
       "      <td>NaN</td>\n",
       "      <td>NaN</td>\n",
       "      <td>NaN</td>\n",
       "      <td>29-12-2022</td>\n",
       "    </tr>\n",
       "    <tr>\n",
       "      <th>88885</th>\n",
       "      <td>20221227106494</td>\n",
       "      <td>Accident</td>\n",
       "      <td>ERA23LA095</td>\n",
       "      <td>2022-12-26</td>\n",
       "      <td>Hampton, NH</td>\n",
       "      <td>United States</td>\n",
       "      <td>NaN</td>\n",
       "      <td>NaN</td>\n",
       "      <td>NaN</td>\n",
       "      <td>NaN</td>\n",
       "      <td>...</td>\n",
       "      <td>NaN</td>\n",
       "      <td>NaN</td>\n",
       "      <td>0.0</td>\n",
       "      <td>0.0</td>\n",
       "      <td>0.0</td>\n",
       "      <td>0.0</td>\n",
       "      <td>NaN</td>\n",
       "      <td>NaN</td>\n",
       "      <td>NaN</td>\n",
       "      <td>NaN</td>\n",
       "    </tr>\n",
       "    <tr>\n",
       "      <th>88886</th>\n",
       "      <td>20221227106497</td>\n",
       "      <td>Accident</td>\n",
       "      <td>WPR23LA075</td>\n",
       "      <td>2022-12-26</td>\n",
       "      <td>Payson, AZ</td>\n",
       "      <td>United States</td>\n",
       "      <td>PAN</td>\n",
       "      <td>PAYSON</td>\n",
       "      <td>Non-Fatal</td>\n",
       "      <td>Substantial</td>\n",
       "      <td>...</td>\n",
       "      <td>NaN</td>\n",
       "      <td>Personal</td>\n",
       "      <td>0.0</td>\n",
       "      <td>0.0</td>\n",
       "      <td>0.0</td>\n",
       "      <td>1.0</td>\n",
       "      <td>VMC</td>\n",
       "      <td>NaN</td>\n",
       "      <td>NaN</td>\n",
       "      <td>27-12-2022</td>\n",
       "    </tr>\n",
       "    <tr>\n",
       "      <th>88887</th>\n",
       "      <td>20221227106498</td>\n",
       "      <td>Accident</td>\n",
       "      <td>WPR23LA076</td>\n",
       "      <td>2022-12-26</td>\n",
       "      <td>Morgan, UT</td>\n",
       "      <td>United States</td>\n",
       "      <td>NaN</td>\n",
       "      <td>NaN</td>\n",
       "      <td>NaN</td>\n",
       "      <td>NaN</td>\n",
       "      <td>...</td>\n",
       "      <td>NaN</td>\n",
       "      <td>Personal</td>\n",
       "      <td>0.0</td>\n",
       "      <td>0.0</td>\n",
       "      <td>0.0</td>\n",
       "      <td>0.0</td>\n",
       "      <td>NaN</td>\n",
       "      <td>NaN</td>\n",
       "      <td>NaN</td>\n",
       "      <td>NaN</td>\n",
       "    </tr>\n",
       "    <tr>\n",
       "      <th>88888</th>\n",
       "      <td>20221230106513</td>\n",
       "      <td>Accident</td>\n",
       "      <td>ERA23LA097</td>\n",
       "      <td>2022-12-29</td>\n",
       "      <td>Athens, GA</td>\n",
       "      <td>United States</td>\n",
       "      <td>NaN</td>\n",
       "      <td>NaN</td>\n",
       "      <td>Minor</td>\n",
       "      <td>NaN</td>\n",
       "      <td>...</td>\n",
       "      <td>NaN</td>\n",
       "      <td>Personal</td>\n",
       "      <td>0.0</td>\n",
       "      <td>1.0</td>\n",
       "      <td>0.0</td>\n",
       "      <td>1.0</td>\n",
       "      <td>NaN</td>\n",
       "      <td>NaN</td>\n",
       "      <td>NaN</td>\n",
       "      <td>30-12-2022</td>\n",
       "    </tr>\n",
       "  </tbody>\n",
       "</table>\n",
       "<p>88889 rows × 25 columns</p>\n",
       "</div>"
      ],
      "text/plain": [
       "             Event.Id Investigation.Type Accident.Number  Event.Date  \\\n",
       "0      20001218X45444           Accident      SEA87LA080  1948-10-24   \n",
       "1      20001218X45447           Accident      LAX94LA336  1962-07-19   \n",
       "2      20061025X01555           Accident      NYC07LA005  1974-08-30   \n",
       "3      20001218X45448           Accident      LAX96LA321  1977-06-19   \n",
       "4      20041105X01764           Accident      CHI79FA064  1979-08-02   \n",
       "...               ...                ...             ...         ...   \n",
       "88884  20221227106491           Accident      ERA23LA093  2022-12-26   \n",
       "88885  20221227106494           Accident      ERA23LA095  2022-12-26   \n",
       "88886  20221227106497           Accident      WPR23LA075  2022-12-26   \n",
       "88887  20221227106498           Accident      WPR23LA076  2022-12-26   \n",
       "88888  20221230106513           Accident      ERA23LA097  2022-12-29   \n",
       "\n",
       "              Location        Country Airport.Code Airport.Name  \\\n",
       "0      MOOSE CREEK, ID  United States          NaN          NaN   \n",
       "1       BRIDGEPORT, CA  United States          NaN          NaN   \n",
       "2        Saltville, VA  United States          NaN          NaN   \n",
       "3           EUREKA, CA  United States          NaN          NaN   \n",
       "4           Canton, OH  United States          NaN          NaN   \n",
       "...                ...            ...          ...          ...   \n",
       "88884    Annapolis, MD  United States          NaN          NaN   \n",
       "88885      Hampton, NH  United States          NaN          NaN   \n",
       "88886       Payson, AZ  United States          PAN       PAYSON   \n",
       "88887       Morgan, UT  United States          NaN          NaN   \n",
       "88888       Athens, GA  United States          NaN          NaN   \n",
       "\n",
       "      Injury.Severity Aircraft.damage  ...    Engine.Type Purpose.of.flight  \\\n",
       "0            Fatal(2)       Destroyed  ...  Reciprocating          Personal   \n",
       "1            Fatal(4)       Destroyed  ...  Reciprocating          Personal   \n",
       "2            Fatal(3)       Destroyed  ...  Reciprocating          Personal   \n",
       "3            Fatal(2)       Destroyed  ...  Reciprocating          Personal   \n",
       "4            Fatal(1)       Destroyed  ...            NaN          Personal   \n",
       "...               ...             ...  ...            ...               ...   \n",
       "88884           Minor             NaN  ...            NaN          Personal   \n",
       "88885             NaN             NaN  ...            NaN               NaN   \n",
       "88886       Non-Fatal     Substantial  ...            NaN          Personal   \n",
       "88887             NaN             NaN  ...            NaN          Personal   \n",
       "88888           Minor             NaN  ...            NaN          Personal   \n",
       "\n",
       "      Total.Fatal.Injuries Total.Serious.Injuries  Total.Minor.Injuries  \\\n",
       "0                      2.0                    0.0                   0.0   \n",
       "1                      4.0                    0.0                   0.0   \n",
       "2                      3.0                    NaN                   NaN   \n",
       "3                      2.0                    0.0                   0.0   \n",
       "4                      1.0                    2.0                   NaN   \n",
       "...                    ...                    ...                   ...   \n",
       "88884                  0.0                    1.0                   0.0   \n",
       "88885                  0.0                    0.0                   0.0   \n",
       "88886                  0.0                    0.0                   0.0   \n",
       "88887                  0.0                    0.0                   0.0   \n",
       "88888                  0.0                    1.0                   0.0   \n",
       "\n",
       "      Total.Uninjured Weather.Condition  Broad.phase.of.flight  \\\n",
       "0                 0.0               UNK                 Cruise   \n",
       "1                 0.0               UNK                Unknown   \n",
       "2                 NaN               IMC                 Cruise   \n",
       "3                 0.0               IMC                 Cruise   \n",
       "4                 0.0               VMC               Approach   \n",
       "...               ...               ...                    ...   \n",
       "88884             0.0               NaN                    NaN   \n",
       "88885             0.0               NaN                    NaN   \n",
       "88886             1.0               VMC                    NaN   \n",
       "88887             0.0               NaN                    NaN   \n",
       "88888             1.0               NaN                    NaN   \n",
       "\n",
       "        Report.Status  Publication.Date  \n",
       "0      Probable Cause               NaN  \n",
       "1      Probable Cause        19-09-1996  \n",
       "2      Probable Cause        26-02-2007  \n",
       "3      Probable Cause        12-09-2000  \n",
       "4      Probable Cause        16-04-1980  \n",
       "...               ...               ...  \n",
       "88884             NaN        29-12-2022  \n",
       "88885             NaN               NaN  \n",
       "88886             NaN        27-12-2022  \n",
       "88887             NaN               NaN  \n",
       "88888             NaN        30-12-2022  \n",
       "\n",
       "[88889 rows x 25 columns]"
      ]
     },
     "execution_count": 11,
     "metadata": {},
     "output_type": "execute_result"
    }
   ],
   "source": [
    "#droping them\n",
    "data= data.drop(columns=columns_to_drop)\n",
    "data"
   ]
  },
  {
   "cell_type": "code",
   "execution_count": 12,
   "metadata": {},
   "outputs": [
    {
     "data": {
      "text/plain": [
       "88826"
      ]
     },
     "execution_count": 12,
     "metadata": {},
     "output_type": "execute_result"
    }
   ],
   "source": [
    "#now replacing missing values for categorical columns\n",
    "data['Make'].value_counts().sum()\n"
   ]
  },
  {
   "cell_type": "code",
   "execution_count": 13,
   "metadata": {},
   "outputs": [],
   "source": [
    "#assigning nan to unknown \n",
    "data['Make']=data['Make'].fillna('Unknown')"
   ]
  },
  {
   "cell_type": "code",
   "execution_count": 14,
   "metadata": {},
   "outputs": [],
   "source": [
    "data['Make']=data['Make'].str.upper()"
   ]
  },
  {
   "cell_type": "code",
   "execution_count": 15,
   "metadata": {},
   "outputs": [
    {
     "data": {
      "text/plain": [
       "88797"
      ]
     },
     "execution_count": 15,
     "metadata": {},
     "output_type": "execute_result"
    }
   ],
   "source": [
    "data['Model'].value_counts().sum()"
   ]
  },
  {
   "cell_type": "code",
   "execution_count": 16,
   "metadata": {},
   "outputs": [],
   "source": [
    "data['Model']=data['Model'].fillna('Unknown')"
   ]
  },
  {
   "cell_type": "code",
   "execution_count": 17,
   "metadata": {},
   "outputs": [
    {
     "data": {
      "text/plain": [
       "0"
      ]
     },
     "execution_count": 17,
     "metadata": {},
     "output_type": "execute_result"
    }
   ],
   "source": [
    "data['Model'].isna().sum()"
   ]
  },
  {
   "cell_type": "code",
   "execution_count": 18,
   "metadata": {},
   "outputs": [
    {
     "data": {
      "text/plain": [
       "0"
      ]
     },
     "execution_count": 18,
     "metadata": {},
     "output_type": "execute_result"
    }
   ],
   "source": [
    "data['Make'].isna().sum()"
   ]
  },
  {
   "cell_type": "code",
   "execution_count": 19,
   "metadata": {},
   "outputs": [
    {
     "data": {
      "text/html": [
       "<div>\n",
       "<style scoped>\n",
       "    .dataframe tbody tr th:only-of-type {\n",
       "        vertical-align: middle;\n",
       "    }\n",
       "\n",
       "    .dataframe tbody tr th {\n",
       "        vertical-align: top;\n",
       "    }\n",
       "\n",
       "    .dataframe thead th {\n",
       "        text-align: right;\n",
       "    }\n",
       "</style>\n",
       "<table border=\"1\" class=\"dataframe\">\n",
       "  <thead>\n",
       "    <tr style=\"text-align: right;\">\n",
       "      <th></th>\n",
       "      <th>Event.Id</th>\n",
       "      <th>Investigation.Type</th>\n",
       "      <th>Accident.Number</th>\n",
       "      <th>Event.Date</th>\n",
       "      <th>Location</th>\n",
       "      <th>Country</th>\n",
       "      <th>Airport.Code</th>\n",
       "      <th>Airport.Name</th>\n",
       "      <th>Injury.Severity</th>\n",
       "      <th>Aircraft.damage</th>\n",
       "      <th>...</th>\n",
       "      <th>Engine.Type</th>\n",
       "      <th>Purpose.of.flight</th>\n",
       "      <th>Total.Fatal.Injuries</th>\n",
       "      <th>Total.Serious.Injuries</th>\n",
       "      <th>Total.Minor.Injuries</th>\n",
       "      <th>Total.Uninjured</th>\n",
       "      <th>Weather.Condition</th>\n",
       "      <th>Broad.phase.of.flight</th>\n",
       "      <th>Report.Status</th>\n",
       "      <th>Publication.Date</th>\n",
       "    </tr>\n",
       "  </thead>\n",
       "  <tbody>\n",
       "    <tr>\n",
       "      <th>0</th>\n",
       "      <td>20001218X45444</td>\n",
       "      <td>Accident</td>\n",
       "      <td>SEA87LA080</td>\n",
       "      <td>1948-10-24</td>\n",
       "      <td>MOOSE CREEK, ID</td>\n",
       "      <td>United States</td>\n",
       "      <td>NaN</td>\n",
       "      <td>NaN</td>\n",
       "      <td>Fatal(2)</td>\n",
       "      <td>Destroyed</td>\n",
       "      <td>...</td>\n",
       "      <td>Reciprocating</td>\n",
       "      <td>Personal</td>\n",
       "      <td>2.0</td>\n",
       "      <td>0.0</td>\n",
       "      <td>0.0</td>\n",
       "      <td>0.0</td>\n",
       "      <td>UNK</td>\n",
       "      <td>Cruise</td>\n",
       "      <td>Probable Cause</td>\n",
       "      <td>NaN</td>\n",
       "    </tr>\n",
       "    <tr>\n",
       "      <th>1</th>\n",
       "      <td>20001218X45447</td>\n",
       "      <td>Accident</td>\n",
       "      <td>LAX94LA336</td>\n",
       "      <td>1962-07-19</td>\n",
       "      <td>BRIDGEPORT, CA</td>\n",
       "      <td>United States</td>\n",
       "      <td>NaN</td>\n",
       "      <td>NaN</td>\n",
       "      <td>Fatal(4)</td>\n",
       "      <td>Destroyed</td>\n",
       "      <td>...</td>\n",
       "      <td>Reciprocating</td>\n",
       "      <td>Personal</td>\n",
       "      <td>4.0</td>\n",
       "      <td>0.0</td>\n",
       "      <td>0.0</td>\n",
       "      <td>0.0</td>\n",
       "      <td>UNK</td>\n",
       "      <td>Unknown</td>\n",
       "      <td>Probable Cause</td>\n",
       "      <td>19-09-1996</td>\n",
       "    </tr>\n",
       "    <tr>\n",
       "      <th>3</th>\n",
       "      <td>20001218X45448</td>\n",
       "      <td>Accident</td>\n",
       "      <td>LAX96LA321</td>\n",
       "      <td>1977-06-19</td>\n",
       "      <td>EUREKA, CA</td>\n",
       "      <td>United States</td>\n",
       "      <td>NaN</td>\n",
       "      <td>NaN</td>\n",
       "      <td>Fatal(2)</td>\n",
       "      <td>Destroyed</td>\n",
       "      <td>...</td>\n",
       "      <td>Reciprocating</td>\n",
       "      <td>Personal</td>\n",
       "      <td>2.0</td>\n",
       "      <td>0.0</td>\n",
       "      <td>0.0</td>\n",
       "      <td>0.0</td>\n",
       "      <td>IMC</td>\n",
       "      <td>Cruise</td>\n",
       "      <td>Probable Cause</td>\n",
       "      <td>12-09-2000</td>\n",
       "    </tr>\n",
       "    <tr>\n",
       "      <th>6</th>\n",
       "      <td>20001218X45446</td>\n",
       "      <td>Accident</td>\n",
       "      <td>CHI81LA106</td>\n",
       "      <td>1981-08-01</td>\n",
       "      <td>COTTON, MN</td>\n",
       "      <td>United States</td>\n",
       "      <td>NaN</td>\n",
       "      <td>NaN</td>\n",
       "      <td>Fatal(4)</td>\n",
       "      <td>Destroyed</td>\n",
       "      <td>...</td>\n",
       "      <td>Reciprocating</td>\n",
       "      <td>Personal</td>\n",
       "      <td>4.0</td>\n",
       "      <td>0.0</td>\n",
       "      <td>0.0</td>\n",
       "      <td>0.0</td>\n",
       "      <td>IMC</td>\n",
       "      <td>Unknown</td>\n",
       "      <td>Probable Cause</td>\n",
       "      <td>06-11-2001</td>\n",
       "    </tr>\n",
       "    <tr>\n",
       "      <th>7</th>\n",
       "      <td>20020909X01562</td>\n",
       "      <td>Accident</td>\n",
       "      <td>SEA82DA022</td>\n",
       "      <td>1982-01-01</td>\n",
       "      <td>PULLMAN, WA</td>\n",
       "      <td>United States</td>\n",
       "      <td>NaN</td>\n",
       "      <td>BLACKBURN AG STRIP</td>\n",
       "      <td>Non-Fatal</td>\n",
       "      <td>Substantial</td>\n",
       "      <td>...</td>\n",
       "      <td>Reciprocating</td>\n",
       "      <td>Personal</td>\n",
       "      <td>0.0</td>\n",
       "      <td>0.0</td>\n",
       "      <td>0.0</td>\n",
       "      <td>2.0</td>\n",
       "      <td>VMC</td>\n",
       "      <td>Takeoff</td>\n",
       "      <td>Probable Cause</td>\n",
       "      <td>01-01-1982</td>\n",
       "    </tr>\n",
       "    <tr>\n",
       "      <th>...</th>\n",
       "      <td>...</td>\n",
       "      <td>...</td>\n",
       "      <td>...</td>\n",
       "      <td>...</td>\n",
       "      <td>...</td>\n",
       "      <td>...</td>\n",
       "      <td>...</td>\n",
       "      <td>...</td>\n",
       "      <td>...</td>\n",
       "      <td>...</td>\n",
       "      <td>...</td>\n",
       "      <td>...</td>\n",
       "      <td>...</td>\n",
       "      <td>...</td>\n",
       "      <td>...</td>\n",
       "      <td>...</td>\n",
       "      <td>...</td>\n",
       "      <td>...</td>\n",
       "      <td>...</td>\n",
       "      <td>...</td>\n",
       "      <td>...</td>\n",
       "    </tr>\n",
       "    <tr>\n",
       "      <th>88639</th>\n",
       "      <td>20221011106092</td>\n",
       "      <td>Accident</td>\n",
       "      <td>CEN23LA008</td>\n",
       "      <td>2022-10-06</td>\n",
       "      <td>Iola, TX</td>\n",
       "      <td>United States</td>\n",
       "      <td>PVT</td>\n",
       "      <td>Private</td>\n",
       "      <td>Non-Fatal</td>\n",
       "      <td>Substantial</td>\n",
       "      <td>...</td>\n",
       "      <td>Reciprocating</td>\n",
       "      <td>Personal</td>\n",
       "      <td>0.0</td>\n",
       "      <td>0.0</td>\n",
       "      <td>0.0</td>\n",
       "      <td>1.0</td>\n",
       "      <td>VMC</td>\n",
       "      <td>NaN</td>\n",
       "      <td>The pilots failure to maintain control of the...</td>\n",
       "      <td>20-12-2022</td>\n",
       "    </tr>\n",
       "    <tr>\n",
       "      <th>88647</th>\n",
       "      <td>20221011106098</td>\n",
       "      <td>Accident</td>\n",
       "      <td>ERA23LA014</td>\n",
       "      <td>2022-10-08</td>\n",
       "      <td>Dacula, GA</td>\n",
       "      <td>United States</td>\n",
       "      <td>LZU</td>\n",
       "      <td>GWINNETT COUNTY - BRISCOE FLD</td>\n",
       "      <td>Non-Fatal</td>\n",
       "      <td>Substantial</td>\n",
       "      <td>...</td>\n",
       "      <td>Reciprocating</td>\n",
       "      <td>Personal</td>\n",
       "      <td>0.0</td>\n",
       "      <td>0.0</td>\n",
       "      <td>0.0</td>\n",
       "      <td>2.0</td>\n",
       "      <td>VMC</td>\n",
       "      <td>NaN</td>\n",
       "      <td>An in-flight collision with a bird while on ap...</td>\n",
       "      <td>20-12-2022</td>\n",
       "    </tr>\n",
       "    <tr>\n",
       "      <th>88661</th>\n",
       "      <td>20221018106153</td>\n",
       "      <td>Accident</td>\n",
       "      <td>CEN23LA015</td>\n",
       "      <td>2022-10-13</td>\n",
       "      <td>Ardmore, OK</td>\n",
       "      <td>United States</td>\n",
       "      <td>1F0</td>\n",
       "      <td>Ardmore Downtown Executive Air</td>\n",
       "      <td>Non-Fatal</td>\n",
       "      <td>Substantial</td>\n",
       "      <td>...</td>\n",
       "      <td>Reciprocating</td>\n",
       "      <td>Personal</td>\n",
       "      <td>0.0</td>\n",
       "      <td>0.0</td>\n",
       "      <td>0.0</td>\n",
       "      <td>1.0</td>\n",
       "      <td>VMC</td>\n",
       "      <td>NaN</td>\n",
       "      <td>The pilot did not ensure adequate clearance fr...</td>\n",
       "      <td>20-12-2022</td>\n",
       "    </tr>\n",
       "    <tr>\n",
       "      <th>88735</th>\n",
       "      <td>20221031106231</td>\n",
       "      <td>Accident</td>\n",
       "      <td>CEN23LA023</td>\n",
       "      <td>2022-10-29</td>\n",
       "      <td>Houston, TX</td>\n",
       "      <td>United States</td>\n",
       "      <td>EFD</td>\n",
       "      <td>ELLINGTON</td>\n",
       "      <td>Minor</td>\n",
       "      <td>Substantial</td>\n",
       "      <td>...</td>\n",
       "      <td>Reciprocating</td>\n",
       "      <td>ASHO</td>\n",
       "      <td>0.0</td>\n",
       "      <td>1.0</td>\n",
       "      <td>0.0</td>\n",
       "      <td>0.0</td>\n",
       "      <td>VMC</td>\n",
       "      <td>NaN</td>\n",
       "      <td>The pilots failure to secure the magneto swit...</td>\n",
       "      <td>20-12-2022</td>\n",
       "    </tr>\n",
       "    <tr>\n",
       "      <th>88767</th>\n",
       "      <td>20221109106272</td>\n",
       "      <td>Accident</td>\n",
       "      <td>CEN23LA033</td>\n",
       "      <td>2022-11-09</td>\n",
       "      <td>Bridgeport, TX</td>\n",
       "      <td>United States</td>\n",
       "      <td>KXBP</td>\n",
       "      <td>Bridgeport Municipal</td>\n",
       "      <td>Non-Fatal</td>\n",
       "      <td>Substantial</td>\n",
       "      <td>...</td>\n",
       "      <td>Reciprocating</td>\n",
       "      <td>Personal</td>\n",
       "      <td>0.0</td>\n",
       "      <td>0.0</td>\n",
       "      <td>0.0</td>\n",
       "      <td>2.0</td>\n",
       "      <td>VMC</td>\n",
       "      <td>NaN</td>\n",
       "      <td>The pilots loss of control due to a wind gust...</td>\n",
       "      <td>20-12-2022</td>\n",
       "    </tr>\n",
       "  </tbody>\n",
       "</table>\n",
       "<p>70106 rows × 25 columns</p>\n",
       "</div>"
      ],
      "text/plain": [
       "             Event.Id Investigation.Type Accident.Number  Event.Date  \\\n",
       "0      20001218X45444           Accident      SEA87LA080  1948-10-24   \n",
       "1      20001218X45447           Accident      LAX94LA336  1962-07-19   \n",
       "3      20001218X45448           Accident      LAX96LA321  1977-06-19   \n",
       "6      20001218X45446           Accident      CHI81LA106  1981-08-01   \n",
       "7      20020909X01562           Accident      SEA82DA022  1982-01-01   \n",
       "...               ...                ...             ...         ...   \n",
       "88639  20221011106092           Accident      CEN23LA008  2022-10-06   \n",
       "88647  20221011106098           Accident      ERA23LA014  2022-10-08   \n",
       "88661  20221018106153           Accident      CEN23LA015  2022-10-13   \n",
       "88735  20221031106231           Accident      CEN23LA023  2022-10-29   \n",
       "88767  20221109106272           Accident      CEN23LA033  2022-11-09   \n",
       "\n",
       "              Location        Country Airport.Code  \\\n",
       "0      MOOSE CREEK, ID  United States          NaN   \n",
       "1       BRIDGEPORT, CA  United States          NaN   \n",
       "3           EUREKA, CA  United States          NaN   \n",
       "6           COTTON, MN  United States          NaN   \n",
       "7          PULLMAN, WA  United States          NaN   \n",
       "...                ...            ...          ...   \n",
       "88639         Iola, TX  United States          PVT   \n",
       "88647       Dacula, GA  United States          LZU   \n",
       "88661      Ardmore, OK  United States          1F0   \n",
       "88735      Houston, TX  United States          EFD   \n",
       "88767   Bridgeport, TX  United States         KXBP   \n",
       "\n",
       "                         Airport.Name Injury.Severity Aircraft.damage  ...  \\\n",
       "0                                 NaN        Fatal(2)       Destroyed  ...   \n",
       "1                                 NaN        Fatal(4)       Destroyed  ...   \n",
       "3                                 NaN        Fatal(2)       Destroyed  ...   \n",
       "6                                 NaN        Fatal(4)       Destroyed  ...   \n",
       "7                  BLACKBURN AG STRIP       Non-Fatal     Substantial  ...   \n",
       "...                               ...             ...             ...  ...   \n",
       "88639                         Private       Non-Fatal     Substantial  ...   \n",
       "88647   GWINNETT COUNTY - BRISCOE FLD       Non-Fatal     Substantial  ...   \n",
       "88661  Ardmore Downtown Executive Air       Non-Fatal     Substantial  ...   \n",
       "88735                       ELLINGTON           Minor     Substantial  ...   \n",
       "88767            Bridgeport Municipal       Non-Fatal     Substantial  ...   \n",
       "\n",
       "         Engine.Type Purpose.of.flight Total.Fatal.Injuries  \\\n",
       "0      Reciprocating          Personal                  2.0   \n",
       "1      Reciprocating          Personal                  4.0   \n",
       "3      Reciprocating          Personal                  2.0   \n",
       "6      Reciprocating          Personal                  4.0   \n",
       "7      Reciprocating          Personal                  0.0   \n",
       "...              ...               ...                  ...   \n",
       "88639  Reciprocating          Personal                  0.0   \n",
       "88647  Reciprocating          Personal                  0.0   \n",
       "88661  Reciprocating          Personal                  0.0   \n",
       "88735  Reciprocating              ASHO                  0.0   \n",
       "88767  Reciprocating          Personal                  0.0   \n",
       "\n",
       "      Total.Serious.Injuries  Total.Minor.Injuries Total.Uninjured  \\\n",
       "0                        0.0                   0.0             0.0   \n",
       "1                        0.0                   0.0             0.0   \n",
       "3                        0.0                   0.0             0.0   \n",
       "6                        0.0                   0.0             0.0   \n",
       "7                        0.0                   0.0             2.0   \n",
       "...                      ...                   ...             ...   \n",
       "88639                    0.0                   0.0             1.0   \n",
       "88647                    0.0                   0.0             2.0   \n",
       "88661                    0.0                   0.0             1.0   \n",
       "88735                    1.0                   0.0             0.0   \n",
       "88767                    0.0                   0.0             2.0   \n",
       "\n",
       "      Weather.Condition  Broad.phase.of.flight  \\\n",
       "0                   UNK                 Cruise   \n",
       "1                   UNK                Unknown   \n",
       "3                   IMC                 Cruise   \n",
       "6                   IMC                Unknown   \n",
       "7                   VMC                Takeoff   \n",
       "...                 ...                    ...   \n",
       "88639               VMC                    NaN   \n",
       "88647               VMC                    NaN   \n",
       "88661               VMC                    NaN   \n",
       "88735               VMC                    NaN   \n",
       "88767               VMC                    NaN   \n",
       "\n",
       "                                           Report.Status  Publication.Date  \n",
       "0                                         Probable Cause               NaN  \n",
       "1                                         Probable Cause        19-09-1996  \n",
       "3                                         Probable Cause        12-09-2000  \n",
       "6                                         Probable Cause        06-11-2001  \n",
       "7                                         Probable Cause        01-01-1982  \n",
       "...                                                  ...               ...  \n",
       "88639  The pilots failure to maintain control of the...        20-12-2022  \n",
       "88647  An in-flight collision with a bird while on ap...        20-12-2022  \n",
       "88661  The pilot did not ensure adequate clearance fr...        20-12-2022  \n",
       "88735  The pilots failure to secure the magneto swit...        20-12-2022  \n",
       "88767  The pilots loss of control due to a wind gust...        20-12-2022  \n",
       "\n",
       "[70106 rows x 25 columns]"
      ]
     },
     "execution_count": 19,
     "metadata": {},
     "output_type": "execute_result"
    }
   ],
   "source": [
    "#droping rows with columns whose missing values is less than 10%\n",
    "threshold=0.10\n",
    "missing_ratios=data.isna().mean()\n",
    "cols_to_drop_by_row=missing_ratios[missing_ratios<threshold].index.tolist()\n",
    "data=data.dropna(subset=cols_to_drop_by_row)\n",
    "data"
   ]
  },
  {
   "cell_type": "code",
   "execution_count": 20,
   "metadata": {},
   "outputs": [],
   "source": [
    "#filling missing values in numeric columns\n",
    "data = data.copy()\n",
    "num_cols = data.select_dtypes(include='number').columns\n",
    "for col in num_cols:\n",
    "    if data[col].isna().any():                        \n",
    "        mode_series = data[col].mode(dropna=True)\n",
    "        if (not mode_series.empty) and (mode_series.iloc[0]== 0.0):\n",
    "            fill_val =data[col].mean(skipna=True)     \n",
    "        else:\n",
    "            fill_val =data[col].median(skipna=True)\n",
    "        data[col].fillna(fill_val,inplace=True)"
   ]
  },
  {
   "cell_type": "code",
   "execution_count": 21,
   "metadata": {},
   "outputs": [
    {
     "data": {
      "text/plain": [
       "Number.of.Engines         0\n",
       "Total.Fatal.Injuries      0\n",
       "Total.Serious.Injuries    0\n",
       "Total.Minor.Injuries      0\n",
       "Total.Uninjured           0\n",
       "dtype: int64"
      ]
     },
     "execution_count": 21,
     "metadata": {},
     "output_type": "execute_result"
    }
   ],
   "source": [
    "data.select_dtypes(include=['float']).isna().sum()"
   ]
  },
  {
   "cell_type": "code",
   "execution_count": 22,
   "metadata": {},
   "outputs": [
    {
     "data": {
      "text/plain": [
       "Event.Id                      0\n",
       "Investigation.Type            0\n",
       "Accident.Number               0\n",
       "Event.Date                    0\n",
       "Location                      0\n",
       "Country                       0\n",
       "Airport.Code              28239\n",
       "Airport.Name              25705\n",
       "Injury.Severity               0\n",
       "Aircraft.damage               0\n",
       "Registration.Number           0\n",
       "Make                          0\n",
       "Model                         0\n",
       "Amateur.Built                 0\n",
       "Number.of.Engines             0\n",
       "Engine.Type                   0\n",
       "Purpose.of.flight             0\n",
       "Total.Fatal.Injuries          0\n",
       "Total.Serious.Injuries        0\n",
       "Total.Minor.Injuries          0\n",
       "Total.Uninjured               0\n",
       "Weather.Condition             0\n",
       "Broad.phase.of.flight     16587\n",
       "Report.Status                 0\n",
       "Publication.Date          11942\n",
       "dtype: int64"
      ]
     },
     "execution_count": 22,
     "metadata": {},
     "output_type": "execute_result"
    }
   ],
   "source": [
    "data.isna().sum()"
   ]
  },
  {
   "cell_type": "code",
   "execution_count": 23,
   "metadata": {},
   "outputs": [
    {
     "data": {
      "text/plain": [
       "Substantial    54479\n",
       "Destroyed      13980\n",
       "Minor           1641\n",
       "Unknown            6\n",
       "Name: Aircraft.damage, dtype: int64"
      ]
     },
     "execution_count": 23,
     "metadata": {},
     "output_type": "execute_result"
    }
   ],
   "source": [
    "data['Aircraft.damage'].value_counts(dropna=False)"
   ]
  },
  {
   "cell_type": "code",
   "execution_count": 24,
   "metadata": {},
   "outputs": [],
   "source": [
    "#replacing the place holder nan with 'unknown'\n",
    "data['Aircraft.damage'].fillna('Unknown',inplace=True)"
   ]
  },
  {
   "cell_type": "code",
   "execution_count": 25,
   "metadata": {},
   "outputs": [
    {
     "data": {
      "text/plain": [
       "United States                    69548\n",
       "Bahamas                             89\n",
       "Puerto Rico                         61\n",
       "ATLANTIC OCEAN                      56\n",
       "PACIFIC OCEAN                       38\n",
       "                                 ...  \n",
       "Suriname                             1\n",
       "St Vincent And The Grenadines        1\n",
       "Sweden                               1\n",
       "Guyana                               1\n",
       "Nicaragua                            1\n",
       "Name: Country, Length: 83, dtype: int64"
      ]
     },
     "execution_count": 25,
     "metadata": {},
     "output_type": "execute_result"
    }
   ],
   "source": [
    "data['Country'].value_counts(dropna=False)"
   ]
  },
  {
   "cell_type": "code",
   "execution_count": 26,
   "metadata": {},
   "outputs": [
    {
     "data": {
      "text/plain": [
       "0"
      ]
     },
     "execution_count": 26,
     "metadata": {},
     "output_type": "execute_result"
    }
   ],
   "source": [
    "data['Country'].isna().sum()"
   ]
  },
  {
   "cell_type": "code",
   "execution_count": 27,
   "metadata": {
    "scrolled": true
   },
   "outputs": [
    {
     "data": {
      "text/plain": [
       "Personal                     42423\n",
       "Instructional                 9436\n",
       "Unknown                       5058\n",
       "Aerial Application            4228\n",
       "Business                      3513\n",
       "Positioning                   1322\n",
       "Other Work Use                 940\n",
       "Ferry                          709\n",
       "Aerial Observation             605\n",
       "Public Aircraft                569\n",
       "Executive/corporate            447\n",
       "Flight Test                    257\n",
       "Skydiving                      125\n",
       "Banner Tow                      80\n",
       "External Load                   78\n",
       "Public Aircraft - Federal       75\n",
       "Public Aircraft - Local         60\n",
       "Public Aircraft - State         53\n",
       "Air Race show                   52\n",
       "Glider Tow                      34\n",
       "Firefighting                    15\n",
       "Air Race/show                   15\n",
       "Air Drop                         7\n",
       "PUBS                             2\n",
       "ASHO                             2\n",
       "PUBL                             1\n",
       "Name: Purpose.of.flight, dtype: int64"
      ]
     },
     "execution_count": 27,
     "metadata": {},
     "output_type": "execute_result"
    }
   ],
   "source": [
    "data['Purpose.of.flight'].value_counts(dropna=False)"
   ]
  },
  {
   "cell_type": "code",
   "execution_count": 28,
   "metadata": {},
   "outputs": [],
   "source": [
    "#replacing placewholders with nan and replacing the missing values\n",
    "data['Purpose.of.flight'].fillna('Unknown',inplace=True)"
   ]
  },
  {
   "cell_type": "code",
   "execution_count": 29,
   "metadata": {},
   "outputs": [
    {
     "data": {
      "text/plain": [
       "0"
      ]
     },
     "execution_count": 29,
     "metadata": {},
     "output_type": "execute_result"
    }
   ],
   "source": [
    "data['Purpose.of.flight'].isna().sum()"
   ]
  },
  {
   "cell_type": "code",
   "execution_count": 30,
   "metadata": {},
   "outputs": [
    {
     "data": {
      "text/plain": [
       "Event.Id                      0\n",
       "Investigation.Type            0\n",
       "Accident.Number               0\n",
       "Event.Date                    0\n",
       "Location                      0\n",
       "Country                       0\n",
       "Airport.Code              28239\n",
       "Airport.Name              25705\n",
       "Injury.Severity               0\n",
       "Aircraft.damage               0\n",
       "Registration.Number           0\n",
       "Make                          0\n",
       "Model                         0\n",
       "Amateur.Built                 0\n",
       "Number.of.Engines             0\n",
       "Engine.Type                   0\n",
       "Purpose.of.flight             0\n",
       "Total.Fatal.Injuries          0\n",
       "Total.Serious.Injuries        0\n",
       "Total.Minor.Injuries          0\n",
       "Total.Uninjured               0\n",
       "Weather.Condition             0\n",
       "Broad.phase.of.flight     16587\n",
       "Report.Status                 0\n",
       "Publication.Date          11942\n",
       "dtype: int64"
      ]
     },
     "execution_count": 30,
     "metadata": {},
     "output_type": "execute_result"
    }
   ],
   "source": [
    "data.isna().sum()"
   ]
  },
  {
   "cell_type": "code",
   "execution_count": 31,
   "metadata": {},
   "outputs": [
    {
     "data": {
      "text/plain": [
       "NaN            16587\n",
       "Landing        14291\n",
       "Takeoff        10945\n",
       "Cruise          8745\n",
       "Maneuvering     6877\n",
       "Approach        5421\n",
       "Taxi            1718\n",
       "Climb           1634\n",
       "Descent         1485\n",
       "Go-around       1199\n",
       "Standing         642\n",
       "Unknown          462\n",
       "Other            100\n",
       "Name: Broad.phase.of.flight, dtype: int64"
      ]
     },
     "execution_count": 31,
     "metadata": {},
     "output_type": "execute_result"
    }
   ],
   "source": [
    "data['Broad.phase.of.flight'].value_counts(dropna=False)"
   ]
  },
  {
   "cell_type": "code",
   "execution_count": 32,
   "metadata": {},
   "outputs": [],
   "source": [
    "data['Broad.phase.of.flight'].fillna('Unknown',inplace=True)"
   ]
  },
  {
   "cell_type": "code",
   "execution_count": 33,
   "metadata": {},
   "outputs": [
    {
     "data": {
      "text/plain": [
       "Unknown        17049\n",
       "Landing        14291\n",
       "Takeoff        10945\n",
       "Cruise          8745\n",
       "Maneuvering     6877\n",
       "Approach        5421\n",
       "Taxi            1718\n",
       "Climb           1634\n",
       "Descent         1485\n",
       "Go-around       1199\n",
       "Standing         642\n",
       "Other            100\n",
       "Name: Broad.phase.of.flight, dtype: int64"
      ]
     },
     "execution_count": 33,
     "metadata": {},
     "output_type": "execute_result"
    }
   ],
   "source": [
    "data['Broad.phase.of.flight'].value_counts()"
   ]
  },
  {
   "cell_type": "code",
   "execution_count": 34,
   "metadata": {},
   "outputs": [
    {
     "data": {
      "text/plain": [
       "0"
      ]
     },
     "execution_count": 34,
     "metadata": {},
     "output_type": "execute_result"
    }
   ],
   "source": [
    "data['Broad.phase.of.flight'].isna().sum()"
   ]
  },
  {
   "cell_type": "code",
   "execution_count": 35,
   "metadata": {},
   "outputs": [
    {
     "data": {
      "text/plain": [
       "Event.Id                      0\n",
       "Investigation.Type            0\n",
       "Accident.Number               0\n",
       "Event.Date                    0\n",
       "Location                      0\n",
       "Country                       0\n",
       "Airport.Code              28239\n",
       "Airport.Name              25705\n",
       "Injury.Severity               0\n",
       "Aircraft.damage               0\n",
       "Registration.Number           0\n",
       "Make                          0\n",
       "Model                         0\n",
       "Amateur.Built                 0\n",
       "Number.of.Engines             0\n",
       "Engine.Type                   0\n",
       "Purpose.of.flight             0\n",
       "Total.Fatal.Injuries          0\n",
       "Total.Serious.Injuries        0\n",
       "Total.Minor.Injuries          0\n",
       "Total.Uninjured               0\n",
       "Weather.Condition             0\n",
       "Broad.phase.of.flight         0\n",
       "Report.Status                 0\n",
       "Publication.Date          11942\n",
       "dtype: int64"
      ]
     },
     "execution_count": 35,
     "metadata": {},
     "output_type": "execute_result"
    }
   ],
   "source": [
    "data.isna().sum()"
   ]
  },
  {
   "cell_type": "code",
   "execution_count": 36,
   "metadata": {},
   "outputs": [
    {
     "data": {
      "text/plain": [
       "0         NaN\n",
       "1         NaN\n",
       "3         NaN\n",
       "6         NaN\n",
       "7         NaN\n",
       "         ... \n",
       "88639     PVT\n",
       "88647     LZU\n",
       "88661     1F0\n",
       "88735     EFD\n",
       "88767    KXBP\n",
       "Name: Airport.Code, Length: 70106, dtype: object"
      ]
     },
     "execution_count": 36,
     "metadata": {},
     "output_type": "execute_result"
    }
   ],
   "source": [
    "data['Airport.Code']"
   ]
  },
  {
   "cell_type": "code",
   "execution_count": 37,
   "metadata": {},
   "outputs": [
    {
     "data": {
      "text/plain": [
       "0                                   NaN\n",
       "1                                   NaN\n",
       "3                                   NaN\n",
       "6                                   NaN\n",
       "7                    BLACKBURN AG STRIP\n",
       "                      ...              \n",
       "88639                           Private\n",
       "88647     GWINNETT COUNTY - BRISCOE FLD\n",
       "88661    Ardmore Downtown Executive Air\n",
       "88735                         ELLINGTON\n",
       "88767              Bridgeport Municipal\n",
       "Name: Airport.Name, Length: 70106, dtype: object"
      ]
     },
     "execution_count": 37,
     "metadata": {},
     "output_type": "execute_result"
    }
   ],
   "source": [
    "data['Airport.Name']"
   ]
  },
  {
   "cell_type": "code",
   "execution_count": 38,
   "metadata": {},
   "outputs": [],
   "source": [
    "#filling missing values for the above\n",
    "data=data.copy()\n",
    "valid = data[data['Airport.Code'].notna() & data['Airport.Name'].notna()]\n",
    "code_to_name = valid.drop_duplicates('Airport.Code').set_index('Airport.Code')['Airport.Name'].to_dict()\n",
    "name_to_code = valid.drop_duplicates('Airport.Name').set_index('Airport.Name')['Airport.Code'].to_dict()\n",
    "missing_name = data['Airport.Name'].isna() & data['Airport.Code'].notna()\n",
    "data.loc[missing_name, 'Airport.Name'] = data.loc[missing_name, 'Airport.Code'].map(code_to_name)\n",
    "missing_code = data['Airport.Code'].isna() & data['Airport.Name'].notna()\n",
    "data.loc[missing_code, 'Airport.Code'] = data.loc[missing_code, 'Airport.Name'].map(name_to_code)\n",
    "data['Airport.Code'].fillna('Unknown Code', inplace=True)\n",
    "data['Airport.Name'].fillna('Unknown Airport', inplace=True)"
   ]
  },
  {
   "cell_type": "code",
   "execution_count": 39,
   "metadata": {},
   "outputs": [
    {
     "data": {
      "text/plain": [
       "0"
      ]
     },
     "execution_count": 39,
     "metadata": {},
     "output_type": "execute_result"
    }
   ],
   "source": [
    "data['Airport.Code'].isna().sum()"
   ]
  },
  {
   "cell_type": "code",
   "execution_count": 40,
   "metadata": {},
   "outputs": [
    {
     "data": {
      "text/plain": [
       "0"
      ]
     },
     "execution_count": 40,
     "metadata": {},
     "output_type": "execute_result"
    }
   ],
   "source": [
    "data['Airport.Name'].isna().sum()"
   ]
  },
  {
   "cell_type": "code",
   "execution_count": 41,
   "metadata": {},
   "outputs": [
    {
     "data": {
      "text/plain": [
       "0"
      ]
     },
     "execution_count": 41,
     "metadata": {},
     "output_type": "execute_result"
    }
   ],
   "source": [
    "data['Weather.Condition'].isna().sum()"
   ]
  },
  {
   "cell_type": "markdown",
   "metadata": {},
   "source": [
    "my dataset is now clean and set for visualizations. i have decided to keep some of the placeholders as they have valuable information about the data regarding to their respective columns and removing them would have rendered my results biased.\n",
    "summatively my clean data is as redered from here on."
   ]
  },
  {
   "cell_type": "code",
   "execution_count": 42,
   "metadata": {},
   "outputs": [
    {
     "data": {
      "text/plain": [
       "Event.Id                      0\n",
       "Investigation.Type            0\n",
       "Accident.Number               0\n",
       "Event.Date                    0\n",
       "Location                      0\n",
       "Country                       0\n",
       "Airport.Code                  0\n",
       "Airport.Name                  0\n",
       "Injury.Severity               0\n",
       "Aircraft.damage               0\n",
       "Registration.Number           0\n",
       "Make                          0\n",
       "Model                         0\n",
       "Amateur.Built                 0\n",
       "Number.of.Engines             0\n",
       "Engine.Type                   0\n",
       "Purpose.of.flight             0\n",
       "Total.Fatal.Injuries          0\n",
       "Total.Serious.Injuries        0\n",
       "Total.Minor.Injuries          0\n",
       "Total.Uninjured               0\n",
       "Weather.Condition             0\n",
       "Broad.phase.of.flight         0\n",
       "Report.Status                 0\n",
       "Publication.Date          11942\n",
       "dtype: int64"
      ]
     },
     "execution_count": 42,
     "metadata": {},
     "output_type": "execute_result"
    }
   ],
   "source": [
    "data.isna().sum()"
   ]
  },
  {
   "cell_type": "code",
   "execution_count": 43,
   "metadata": {},
   "outputs": [
    {
     "name": "stdout",
     "output_type": "stream",
     "text": [
      "<class 'pandas.core.frame.DataFrame'>\n",
      "Int64Index: 70106 entries, 0 to 88767\n",
      "Data columns (total 25 columns):\n",
      " #   Column                  Non-Null Count  Dtype  \n",
      "---  ------                  --------------  -----  \n",
      " 0   Event.Id                70106 non-null  object \n",
      " 1   Investigation.Type      70106 non-null  object \n",
      " 2   Accident.Number         70106 non-null  object \n",
      " 3   Event.Date              70106 non-null  object \n",
      " 4   Location                70106 non-null  object \n",
      " 5   Country                 70106 non-null  object \n",
      " 6   Airport.Code            70106 non-null  object \n",
      " 7   Airport.Name            70106 non-null  object \n",
      " 8   Injury.Severity         70106 non-null  object \n",
      " 9   Aircraft.damage         70106 non-null  object \n",
      " 10  Registration.Number     70106 non-null  object \n",
      " 11  Make                    70106 non-null  object \n",
      " 12  Model                   70106 non-null  object \n",
      " 13  Amateur.Built           70106 non-null  object \n",
      " 14  Number.of.Engines       70106 non-null  float64\n",
      " 15  Engine.Type             70106 non-null  object \n",
      " 16  Purpose.of.flight       70106 non-null  object \n",
      " 17  Total.Fatal.Injuries    70106 non-null  float64\n",
      " 18  Total.Serious.Injuries  70106 non-null  float64\n",
      " 19  Total.Minor.Injuries    70106 non-null  float64\n",
      " 20  Total.Uninjured         70106 non-null  float64\n",
      " 21  Weather.Condition       70106 non-null  object \n",
      " 22  Broad.phase.of.flight   70106 non-null  object \n",
      " 23  Report.Status           70106 non-null  object \n",
      " 24  Publication.Date        58164 non-null  object \n",
      "dtypes: float64(5), object(20)\n",
      "memory usage: 13.9+ MB\n"
     ]
    }
   ],
   "source": [
    "data.info()"
   ]
  },
  {
   "cell_type": "code",
   "execution_count": 44,
   "metadata": {},
   "outputs": [
    {
     "data": {
      "text/plain": [
       "Index(['Event.Id', 'Investigation.Type', 'Accident.Number', 'Event.Date',\n",
       "       'Location', 'Country', 'Airport.Code', 'Airport.Name',\n",
       "       'Injury.Severity', 'Aircraft.damage', 'Registration.Number', 'Make',\n",
       "       'Model', 'Amateur.Built', 'Number.of.Engines', 'Engine.Type',\n",
       "       'Purpose.of.flight', 'Total.Fatal.Injuries', 'Total.Serious.Injuries',\n",
       "       'Total.Minor.Injuries', 'Total.Uninjured', 'Weather.Condition',\n",
       "       'Broad.phase.of.flight', 'Report.Status', 'Publication.Date'],\n",
       "      dtype='object')"
      ]
     },
     "execution_count": 44,
     "metadata": {},
     "output_type": "execute_result"
    }
   ],
   "source": [
    "data.columns"
   ]
  },
  {
   "cell_type": "markdown",
   "metadata": {},
   "source": [
    "Important visualizations from my data for the purposes of analysis"
   ]
  },
  {
   "cell_type": "code",
   "execution_count": 45,
   "metadata": {},
   "outputs": [
    {
     "data": {
      "text/html": [
       "<div>\n",
       "<style scoped>\n",
       "    .dataframe tbody tr th:only-of-type {\n",
       "        vertical-align: middle;\n",
       "    }\n",
       "\n",
       "    .dataframe tbody tr th {\n",
       "        vertical-align: top;\n",
       "    }\n",
       "\n",
       "    .dataframe thead th {\n",
       "        text-align: right;\n",
       "    }\n",
       "</style>\n",
       "<table border=\"1\" class=\"dataframe\">\n",
       "  <thead>\n",
       "    <tr style=\"text-align: right;\">\n",
       "      <th></th>\n",
       "      <th>Event.Id</th>\n",
       "      <th>Investigation.Type</th>\n",
       "      <th>Accident.Number</th>\n",
       "      <th>Event.Date</th>\n",
       "      <th>Location</th>\n",
       "      <th>Country</th>\n",
       "      <th>Airport.Code</th>\n",
       "      <th>Airport.Name</th>\n",
       "      <th>Injury.Severity</th>\n",
       "      <th>Aircraft.damage</th>\n",
       "      <th>...</th>\n",
       "      <th>Engine.Type</th>\n",
       "      <th>Purpose.of.flight</th>\n",
       "      <th>Total.Fatal.Injuries</th>\n",
       "      <th>Total.Serious.Injuries</th>\n",
       "      <th>Total.Minor.Injuries</th>\n",
       "      <th>Total.Uninjured</th>\n",
       "      <th>Weather.Condition</th>\n",
       "      <th>Broad.phase.of.flight</th>\n",
       "      <th>Report.Status</th>\n",
       "      <th>Publication.Date</th>\n",
       "    </tr>\n",
       "  </thead>\n",
       "  <tbody>\n",
       "    <tr>\n",
       "      <th>0</th>\n",
       "      <td>20001218X45444</td>\n",
       "      <td>Accident</td>\n",
       "      <td>SEA87LA080</td>\n",
       "      <td>1948-10-24</td>\n",
       "      <td>MOOSE CREEK, ID</td>\n",
       "      <td>United States</td>\n",
       "      <td>Unknown Code</td>\n",
       "      <td>Unknown Airport</td>\n",
       "      <td>Fatal(2)</td>\n",
       "      <td>Destroyed</td>\n",
       "      <td>...</td>\n",
       "      <td>Reciprocating</td>\n",
       "      <td>Personal</td>\n",
       "      <td>2.0</td>\n",
       "      <td>0.0</td>\n",
       "      <td>0.0</td>\n",
       "      <td>0.0</td>\n",
       "      <td>UNK</td>\n",
       "      <td>Cruise</td>\n",
       "      <td>Probable Cause</td>\n",
       "      <td>NaN</td>\n",
       "    </tr>\n",
       "    <tr>\n",
       "      <th>1</th>\n",
       "      <td>20001218X45447</td>\n",
       "      <td>Accident</td>\n",
       "      <td>LAX94LA336</td>\n",
       "      <td>1962-07-19</td>\n",
       "      <td>BRIDGEPORT, CA</td>\n",
       "      <td>United States</td>\n",
       "      <td>Unknown Code</td>\n",
       "      <td>Unknown Airport</td>\n",
       "      <td>Fatal(4)</td>\n",
       "      <td>Destroyed</td>\n",
       "      <td>...</td>\n",
       "      <td>Reciprocating</td>\n",
       "      <td>Personal</td>\n",
       "      <td>4.0</td>\n",
       "      <td>0.0</td>\n",
       "      <td>0.0</td>\n",
       "      <td>0.0</td>\n",
       "      <td>UNK</td>\n",
       "      <td>Unknown</td>\n",
       "      <td>Probable Cause</td>\n",
       "      <td>19-09-1996</td>\n",
       "    </tr>\n",
       "  </tbody>\n",
       "</table>\n",
       "<p>2 rows × 25 columns</p>\n",
       "</div>"
      ],
      "text/plain": [
       "         Event.Id Investigation.Type Accident.Number  Event.Date  \\\n",
       "0  20001218X45444           Accident      SEA87LA080  1948-10-24   \n",
       "1  20001218X45447           Accident      LAX94LA336  1962-07-19   \n",
       "\n",
       "          Location        Country  Airport.Code     Airport.Name  \\\n",
       "0  MOOSE CREEK, ID  United States  Unknown Code  Unknown Airport   \n",
       "1   BRIDGEPORT, CA  United States  Unknown Code  Unknown Airport   \n",
       "\n",
       "  Injury.Severity Aircraft.damage  ...    Engine.Type Purpose.of.flight  \\\n",
       "0        Fatal(2)       Destroyed  ...  Reciprocating          Personal   \n",
       "1        Fatal(4)       Destroyed  ...  Reciprocating          Personal   \n",
       "\n",
       "  Total.Fatal.Injuries Total.Serious.Injuries  Total.Minor.Injuries  \\\n",
       "0                  2.0                    0.0                   0.0   \n",
       "1                  4.0                    0.0                   0.0   \n",
       "\n",
       "  Total.Uninjured Weather.Condition  Broad.phase.of.flight   Report.Status  \\\n",
       "0             0.0               UNK                 Cruise  Probable Cause   \n",
       "1             0.0               UNK                Unknown  Probable Cause   \n",
       "\n",
       "   Publication.Date  \n",
       "0               NaN  \n",
       "1        19-09-1996  \n",
       "\n",
       "[2 rows x 25 columns]"
      ]
     },
     "execution_count": 45,
     "metadata": {},
     "output_type": "execute_result"
    }
   ],
   "source": [
    "data.head(2)"
   ]
  },
  {
   "cell_type": "code",
   "execution_count": 46,
   "metadata": {},
   "outputs": [
    {
     "data": {
      "text/plain": [
       "COLVIN                        1\n",
       "FAIRCHILD FUNK                1\n",
       "LARSON SMITH MINIPLANE        1\n",
       "HUNZIKER                      1\n",
       "REVOLUTION HELICOPTER         1\n",
       "MEDWAY                        1\n",
       "SLAUGHTER MIKE                1\n",
       "WALTMAN THEODORE J            1\n",
       "NASA AMES RESEARCH CENTER     1\n",
       "SOUTHERN POWERED PARACHUTE    1\n",
       "Name: Make, dtype: int64"
      ]
     },
     "execution_count": 46,
     "metadata": {},
     "output_type": "execute_result"
    }
   ],
   "source": [
    "# Top 10 safest Makes by accident count\n",
    "data['Make'].value_counts().tail(10)\n"
   ]
  },
  {
   "cell_type": "code",
   "execution_count": 47,
   "metadata": {},
   "outputs": [
    {
     "data": {
      "text/plain": [
       "Number.of.Engines  Injury.Severity\n",
       "0.0                Non-Fatal          489\n",
       "                   Fatal(1)            58\n",
       "                   Fatal(2)            10\n",
       "                   Fatal(4)             4\n",
       "                   Fatal(5)             4\n",
       "                                     ... \n",
       "4.0                Fatal(43)            1\n",
       "                   Fatal(70)            1\n",
       "                   Fatal(73)            1\n",
       "                   Fatal(9)             1\n",
       "8.0                Non-Fatal            2\n",
       "Name: Injury.Severity, Length: 97, dtype: int64"
      ]
     },
     "execution_count": 47,
     "metadata": {},
     "output_type": "execute_result"
    }
   ],
   "source": [
    "# Engine safety comparison  \n",
    "data.groupby('Number.of.Engines')['Injury.Severity'].value_counts()"
   ]
  },
  {
   "cell_type": "code",
   "execution_count": 48,
   "metadata": {
    "scrolled": true
   },
   "outputs": [
    {
     "data": {
      "text/plain": [
       "Make                 Injury.Severity\n",
       "177MF LLC            Non-Fatal          1\n",
       "1ST FTR GP           Fatal(1)           1\n",
       "2007 SAVAGE AIR LLC  Non-Fatal          1\n",
       "2021FX3 LLC          Non-Fatal          1\n",
       "67 FLYING DUTCHMAN   Non-Fatal          1\n",
       "                                       ..\n",
       "ZLIN AVIATION        Non-Fatal          1\n",
       "ZUBAIR S KHAN        Fatal              1\n",
       "ZUKOWSKI             Non-Fatal          1\n",
       "ZWART                Non-Fatal          1\n",
       "ZWICKER MURRAY R     Non-Fatal          1\n",
       "Name: Injury.Severity, Length: 7416, dtype: int64"
      ]
     },
     "execution_count": 48,
     "metadata": {},
     "output_type": "execute_result"
    }
   ],
   "source": [
    "# Fatal vs Non-Fatal by Make\n",
    "data.groupby('Make')['Injury.Severity'].value_counts()"
   ]
  },
  {
   "cell_type": "code",
   "execution_count": 49,
   "metadata": {},
   "outputs": [
    {
     "name": "stdout",
     "output_type": "stream",
     "text": [
      "Top 20 Major Manufacturers:\n",
      "CESSNA            23630\n",
      "PIPER             12909\n",
      "BEECH              4353\n",
      "BELL               1959\n",
      "MOONEY             1142\n",
      "GRUMMAN            1076\n",
      "BELLANCA            958\n",
      "ROBINSON            791\n",
      "HUGHES              782\n",
      "BOEING              720\n",
      "AERONCA             569\n",
      "AIR TRACTOR         553\n",
      "MAULE               530\n",
      "CHAMPION            471\n",
      "SCHWEIZER           454\n",
      "STINSON             404\n",
      "LUSCOMBE            376\n",
      "AERO COMMANDER      354\n",
      "TAYLORCRAFT         345\n",
      "HILLER              329\n",
      "Name: Make, dtype: int64\n"
     ]
    }
   ],
   "source": [
    "# Get manufacturers with significant accident history (10+ incidents)\n",
    "major_makes = data['Make'].value_counts()\n",
    "significant_makes = major_makes[major_makes >= 10]\n",
    "print(\"Top 20 Major Manufacturers:\")\n",
    "print(significant_makes.head(20))\n",
    "\n",
    "# Filter dataset to only include these manufacturers\n",
    "major_aircraft_df = data[data['Make'].isin(significant_makes.index)]"
   ]
  },
  {
   "cell_type": "code",
   "execution_count": 50,
   "metadata": {},
   "outputs": [
    {
     "data": {
      "text/html": [
       "<div>\n",
       "<style scoped>\n",
       "    .dataframe tbody tr th:only-of-type {\n",
       "        vertical-align: middle;\n",
       "    }\n",
       "\n",
       "    .dataframe tbody tr th {\n",
       "        vertical-align: top;\n",
       "    }\n",
       "\n",
       "    .dataframe thead th {\n",
       "        text-align: right;\n",
       "    }\n",
       "</style>\n",
       "<table border=\"1\" class=\"dataframe\">\n",
       "  <thead>\n",
       "    <tr style=\"text-align: right;\">\n",
       "      <th></th>\n",
       "      <th>Event.Id</th>\n",
       "      <th>Investigation.Type</th>\n",
       "      <th>Accident.Number</th>\n",
       "      <th>Event.Date</th>\n",
       "      <th>Location</th>\n",
       "      <th>Country</th>\n",
       "      <th>Airport.Code</th>\n",
       "      <th>Airport.Name</th>\n",
       "      <th>Injury.Severity</th>\n",
       "      <th>Aircraft.damage</th>\n",
       "      <th>...</th>\n",
       "      <th>Engine.Type</th>\n",
       "      <th>Purpose.of.flight</th>\n",
       "      <th>Total.Fatal.Injuries</th>\n",
       "      <th>Total.Serious.Injuries</th>\n",
       "      <th>Total.Minor.Injuries</th>\n",
       "      <th>Total.Uninjured</th>\n",
       "      <th>Weather.Condition</th>\n",
       "      <th>Broad.phase.of.flight</th>\n",
       "      <th>Report.Status</th>\n",
       "      <th>Publication.Date</th>\n",
       "    </tr>\n",
       "  </thead>\n",
       "  <tbody>\n",
       "    <tr>\n",
       "      <th>8</th>\n",
       "      <td>20020909X01561</td>\n",
       "      <td>Accident</td>\n",
       "      <td>NYC82DA015</td>\n",
       "      <td>1982-01-01</td>\n",
       "      <td>EAST HANOVER, NJ</td>\n",
       "      <td>United States</td>\n",
       "      <td>N58</td>\n",
       "      <td>HANOVER</td>\n",
       "      <td>Non-Fatal</td>\n",
       "      <td>Substantial</td>\n",
       "      <td>...</td>\n",
       "      <td>Reciprocating</td>\n",
       "      <td>Business</td>\n",
       "      <td>0.0</td>\n",
       "      <td>0.0</td>\n",
       "      <td>0.0</td>\n",
       "      <td>2.0</td>\n",
       "      <td>IMC</td>\n",
       "      <td>Landing</td>\n",
       "      <td>Probable Cause</td>\n",
       "      <td>01-01-1982</td>\n",
       "    </tr>\n",
       "    <tr>\n",
       "      <th>25</th>\n",
       "      <td>20020917X01905</td>\n",
       "      <td>Accident</td>\n",
       "      <td>DCA82AA008</td>\n",
       "      <td>1982-01-03</td>\n",
       "      <td>ASHLAND, VA</td>\n",
       "      <td>United States</td>\n",
       "      <td>W83</td>\n",
       "      <td>HANOVER COUNTY</td>\n",
       "      <td>Fatal(8)</td>\n",
       "      <td>Destroyed</td>\n",
       "      <td>...</td>\n",
       "      <td>Reciprocating</td>\n",
       "      <td>Business</td>\n",
       "      <td>8.0</td>\n",
       "      <td>0.0</td>\n",
       "      <td>0.0</td>\n",
       "      <td>0.0</td>\n",
       "      <td>IMC</td>\n",
       "      <td>Approach</td>\n",
       "      <td>Probable Cause</td>\n",
       "      <td>03-01-1983</td>\n",
       "    </tr>\n",
       "    <tr>\n",
       "      <th>37</th>\n",
       "      <td>20020917X02304</td>\n",
       "      <td>Accident</td>\n",
       "      <td>LAX82FUM06</td>\n",
       "      <td>1982-01-05</td>\n",
       "      <td>RAMONA, CA</td>\n",
       "      <td>United States</td>\n",
       "      <td>L39</td>\n",
       "      <td>RAMONA</td>\n",
       "      <td>Fatal(3)</td>\n",
       "      <td>Destroyed</td>\n",
       "      <td>...</td>\n",
       "      <td>Reciprocating</td>\n",
       "      <td>Business</td>\n",
       "      <td>3.0</td>\n",
       "      <td>0.0</td>\n",
       "      <td>0.0</td>\n",
       "      <td>0.0</td>\n",
       "      <td>IMC</td>\n",
       "      <td>Cruise</td>\n",
       "      <td>Probable Cause</td>\n",
       "      <td>05-01-1983</td>\n",
       "    </tr>\n",
       "    <tr>\n",
       "      <th>40</th>\n",
       "      <td>20020917X01764</td>\n",
       "      <td>Incident</td>\n",
       "      <td>ATL82IA029</td>\n",
       "      <td>1982-01-05</td>\n",
       "      <td>PENSACOLA, FL</td>\n",
       "      <td>United States</td>\n",
       "      <td>Unknown Code</td>\n",
       "      <td>Unknown Airport</td>\n",
       "      <td>Incident</td>\n",
       "      <td>Minor</td>\n",
       "      <td>...</td>\n",
       "      <td>Reciprocating</td>\n",
       "      <td>Business</td>\n",
       "      <td>0.0</td>\n",
       "      <td>0.0</td>\n",
       "      <td>0.0</td>\n",
       "      <td>1.0</td>\n",
       "      <td>VMC</td>\n",
       "      <td>Cruise</td>\n",
       "      <td>Probable Cause</td>\n",
       "      <td>05-01-1983</td>\n",
       "    </tr>\n",
       "    <tr>\n",
       "      <th>41</th>\n",
       "      <td>20020917X01993</td>\n",
       "      <td>Accident</td>\n",
       "      <td>FTW82DA037</td>\n",
       "      <td>1982-01-05</td>\n",
       "      <td>LONOKE, AR</td>\n",
       "      <td>United States</td>\n",
       "      <td>Unknown Code</td>\n",
       "      <td>Unknown Airport</td>\n",
       "      <td>Non-Fatal</td>\n",
       "      <td>Substantial</td>\n",
       "      <td>...</td>\n",
       "      <td>Reciprocating</td>\n",
       "      <td>Business</td>\n",
       "      <td>0.0</td>\n",
       "      <td>1.0</td>\n",
       "      <td>0.0</td>\n",
       "      <td>1.0</td>\n",
       "      <td>VMC</td>\n",
       "      <td>Descent</td>\n",
       "      <td>Probable Cause</td>\n",
       "      <td>05-01-1983</td>\n",
       "    </tr>\n",
       "    <tr>\n",
       "      <th>...</th>\n",
       "      <td>...</td>\n",
       "      <td>...</td>\n",
       "      <td>...</td>\n",
       "      <td>...</td>\n",
       "      <td>...</td>\n",
       "      <td>...</td>\n",
       "      <td>...</td>\n",
       "      <td>...</td>\n",
       "      <td>...</td>\n",
       "      <td>...</td>\n",
       "      <td>...</td>\n",
       "      <td>...</td>\n",
       "      <td>...</td>\n",
       "      <td>...</td>\n",
       "      <td>...</td>\n",
       "      <td>...</td>\n",
       "      <td>...</td>\n",
       "      <td>...</td>\n",
       "      <td>...</td>\n",
       "      <td>...</td>\n",
       "      <td>...</td>\n",
       "    </tr>\n",
       "    <tr>\n",
       "      <th>87879</th>\n",
       "      <td>20220602105175</td>\n",
       "      <td>Accident</td>\n",
       "      <td>WPR22LA194</td>\n",
       "      <td>2022-05-30</td>\n",
       "      <td>East Sound, WA</td>\n",
       "      <td>United States</td>\n",
       "      <td>90WA</td>\n",
       "      <td>Waldron Airstrip</td>\n",
       "      <td>Non-Fatal</td>\n",
       "      <td>Substantial</td>\n",
       "      <td>...</td>\n",
       "      <td>Reciprocating</td>\n",
       "      <td>Business</td>\n",
       "      <td>0.0</td>\n",
       "      <td>0.0</td>\n",
       "      <td>0.0</td>\n",
       "      <td>2.0</td>\n",
       "      <td>VMC</td>\n",
       "      <td>Unknown</td>\n",
       "      <td>The pilot's failure to attain a proper touchdo...</td>\n",
       "      <td>12-08-2022</td>\n",
       "    </tr>\n",
       "    <tr>\n",
       "      <th>88050</th>\n",
       "      <td>20220629105392</td>\n",
       "      <td>Accident</td>\n",
       "      <td>ANC22LA050</td>\n",
       "      <td>2022-06-26</td>\n",
       "      <td>Kokhanok, AK</td>\n",
       "      <td>United States</td>\n",
       "      <td>PVT</td>\n",
       "      <td>Private</td>\n",
       "      <td>Non-Fatal</td>\n",
       "      <td>Substantial</td>\n",
       "      <td>...</td>\n",
       "      <td>Reciprocating</td>\n",
       "      <td>Business</td>\n",
       "      <td>0.0</td>\n",
       "      <td>0.0</td>\n",
       "      <td>0.0</td>\n",
       "      <td>7.0</td>\n",
       "      <td>VMC</td>\n",
       "      <td>Unknown</td>\n",
       "      <td>The pilots failure to maintain directional co...</td>\n",
       "      <td>01-11-2022</td>\n",
       "    </tr>\n",
       "    <tr>\n",
       "      <th>88147</th>\n",
       "      <td>20220718105502</td>\n",
       "      <td>Accident</td>\n",
       "      <td>CEN22LA320</td>\n",
       "      <td>2022-07-14</td>\n",
       "      <td>Kendleton, TX</td>\n",
       "      <td>United States</td>\n",
       "      <td>Unknown Code</td>\n",
       "      <td>Unknown Airport</td>\n",
       "      <td>Non-Fatal</td>\n",
       "      <td>Substantial</td>\n",
       "      <td>...</td>\n",
       "      <td>Reciprocating</td>\n",
       "      <td>Business</td>\n",
       "      <td>0.0</td>\n",
       "      <td>0.0</td>\n",
       "      <td>0.0</td>\n",
       "      <td>4.0</td>\n",
       "      <td>VMC</td>\n",
       "      <td>Unknown</td>\n",
       "      <td>The pilots improper in-flight planning and fu...</td>\n",
       "      <td>22-09-2022</td>\n",
       "    </tr>\n",
       "    <tr>\n",
       "      <th>88157</th>\n",
       "      <td>20220719105526</td>\n",
       "      <td>Accident</td>\n",
       "      <td>ANC22LA058</td>\n",
       "      <td>2022-07-15</td>\n",
       "      <td>Port Alsworth, AK</td>\n",
       "      <td>United States</td>\n",
       "      <td>PVT</td>\n",
       "      <td>Private</td>\n",
       "      <td>Non-Fatal</td>\n",
       "      <td>Substantial</td>\n",
       "      <td>...</td>\n",
       "      <td>Reciprocating</td>\n",
       "      <td>Business</td>\n",
       "      <td>0.0</td>\n",
       "      <td>0.0</td>\n",
       "      <td>0.0</td>\n",
       "      <td>2.0</td>\n",
       "      <td>VMC</td>\n",
       "      <td>Unknown</td>\n",
       "      <td>The pilots excessive use of brakes which resu...</td>\n",
       "      <td>02-12-2022</td>\n",
       "    </tr>\n",
       "    <tr>\n",
       "      <th>88158</th>\n",
       "      <td>20220720105531</td>\n",
       "      <td>Accident</td>\n",
       "      <td>ERA22LA325</td>\n",
       "      <td>2022-07-15</td>\n",
       "      <td>Brunswick, GA</td>\n",
       "      <td>United States</td>\n",
       "      <td>BQK</td>\n",
       "      <td>BRUNSWICK GOLDEN ISLES</td>\n",
       "      <td>Non-Fatal</td>\n",
       "      <td>Substantial</td>\n",
       "      <td>...</td>\n",
       "      <td>Turbo Fan</td>\n",
       "      <td>Business</td>\n",
       "      <td>0.0</td>\n",
       "      <td>0.0</td>\n",
       "      <td>0.0</td>\n",
       "      <td>2.0</td>\n",
       "      <td>VMC</td>\n",
       "      <td>Unknown</td>\n",
       "      <td>An in-flight collision with a bird.</td>\n",
       "      <td>03-11-2022</td>\n",
       "    </tr>\n",
       "  </tbody>\n",
       "</table>\n",
       "<p>3393 rows × 25 columns</p>\n",
       "</div>"
      ],
      "text/plain": [
       "             Event.Id Investigation.Type Accident.Number  Event.Date  \\\n",
       "8      20020909X01561           Accident      NYC82DA015  1982-01-01   \n",
       "25     20020917X01905           Accident      DCA82AA008  1982-01-03   \n",
       "37     20020917X02304           Accident      LAX82FUM06  1982-01-05   \n",
       "40     20020917X01764           Incident      ATL82IA029  1982-01-05   \n",
       "41     20020917X01993           Accident      FTW82DA037  1982-01-05   \n",
       "...               ...                ...             ...         ...   \n",
       "87879  20220602105175           Accident      WPR22LA194  2022-05-30   \n",
       "88050  20220629105392           Accident      ANC22LA050  2022-06-26   \n",
       "88147  20220718105502           Accident      CEN22LA320  2022-07-14   \n",
       "88157  20220719105526           Accident      ANC22LA058  2022-07-15   \n",
       "88158  20220720105531           Accident      ERA22LA325  2022-07-15   \n",
       "\n",
       "                Location        Country  Airport.Code            Airport.Name  \\\n",
       "8       EAST HANOVER, NJ  United States           N58                 HANOVER   \n",
       "25           ASHLAND, VA  United States           W83          HANOVER COUNTY   \n",
       "37            RAMONA, CA  United States           L39                  RAMONA   \n",
       "40         PENSACOLA, FL  United States  Unknown Code         Unknown Airport   \n",
       "41            LONOKE, AR  United States  Unknown Code         Unknown Airport   \n",
       "...                  ...            ...           ...                     ...   \n",
       "87879     East Sound, WA  United States          90WA        Waldron Airstrip   \n",
       "88050       Kokhanok, AK  United States           PVT                 Private   \n",
       "88147      Kendleton, TX  United States  Unknown Code         Unknown Airport   \n",
       "88157  Port Alsworth, AK  United States           PVT                 Private   \n",
       "88158      Brunswick, GA  United States           BQK  BRUNSWICK GOLDEN ISLES   \n",
       "\n",
       "      Injury.Severity Aircraft.damage  ...    Engine.Type Purpose.of.flight  \\\n",
       "8           Non-Fatal     Substantial  ...  Reciprocating          Business   \n",
       "25           Fatal(8)       Destroyed  ...  Reciprocating          Business   \n",
       "37           Fatal(3)       Destroyed  ...  Reciprocating          Business   \n",
       "40           Incident           Minor  ...  Reciprocating          Business   \n",
       "41          Non-Fatal     Substantial  ...  Reciprocating          Business   \n",
       "...               ...             ...  ...            ...               ...   \n",
       "87879       Non-Fatal     Substantial  ...  Reciprocating          Business   \n",
       "88050       Non-Fatal     Substantial  ...  Reciprocating          Business   \n",
       "88147       Non-Fatal     Substantial  ...  Reciprocating          Business   \n",
       "88157       Non-Fatal     Substantial  ...  Reciprocating          Business   \n",
       "88158       Non-Fatal     Substantial  ...      Turbo Fan          Business   \n",
       "\n",
       "      Total.Fatal.Injuries Total.Serious.Injuries  Total.Minor.Injuries  \\\n",
       "8                      0.0                    0.0                   0.0   \n",
       "25                     8.0                    0.0                   0.0   \n",
       "37                     3.0                    0.0                   0.0   \n",
       "40                     0.0                    0.0                   0.0   \n",
       "41                     0.0                    1.0                   0.0   \n",
       "...                    ...                    ...                   ...   \n",
       "87879                  0.0                    0.0                   0.0   \n",
       "88050                  0.0                    0.0                   0.0   \n",
       "88147                  0.0                    0.0                   0.0   \n",
       "88157                  0.0                    0.0                   0.0   \n",
       "88158                  0.0                    0.0                   0.0   \n",
       "\n",
       "      Total.Uninjured Weather.Condition  Broad.phase.of.flight  \\\n",
       "8                 2.0               IMC                Landing   \n",
       "25                0.0               IMC               Approach   \n",
       "37                0.0               IMC                 Cruise   \n",
       "40                1.0               VMC                 Cruise   \n",
       "41                1.0               VMC                Descent   \n",
       "...               ...               ...                    ...   \n",
       "87879             2.0               VMC                Unknown   \n",
       "88050             7.0               VMC                Unknown   \n",
       "88147             4.0               VMC                Unknown   \n",
       "88157             2.0               VMC                Unknown   \n",
       "88158             2.0               VMC                Unknown   \n",
       "\n",
       "                                           Report.Status  Publication.Date  \n",
       "8                                         Probable Cause        01-01-1982  \n",
       "25                                        Probable Cause        03-01-1983  \n",
       "37                                        Probable Cause        05-01-1983  \n",
       "40                                        Probable Cause        05-01-1983  \n",
       "41                                        Probable Cause        05-01-1983  \n",
       "...                                                  ...               ...  \n",
       "87879  The pilot's failure to attain a proper touchdo...        12-08-2022  \n",
       "88050  The pilots failure to maintain directional co...        01-11-2022  \n",
       "88147  The pilots improper in-flight planning and fu...        22-09-2022  \n",
       "88157  The pilots excessive use of brakes which resu...        02-12-2022  \n",
       "88158                An in-flight collision with a bird.        03-11-2022  \n",
       "\n",
       "[3393 rows x 25 columns]"
      ]
     },
     "execution_count": 50,
     "metadata": {},
     "output_type": "execute_result"
    }
   ],
   "source": [
    "# Filter by commercial aircraft purposes\n",
    "commercial_purposes = ['Scheduled', 'Business', 'Executive/Corporate', 'Air Taxi', 'Cargo']\n",
    "commercial_aircraft = major_aircraft_df[major_aircraft_df['Purpose.of.flight'].isin(commercial_purposes)]\n",
    "commercial_aircraft"
   ]
  },
  {
   "cell_type": "code",
   "execution_count": 51,
   "metadata": {},
   "outputs": [],
   "source": [
    "#Accidents by make \n",
    "accident=data['Investigation.Type']=='Accident'\n",
    "accident_count=data.loc[accident,'Make'].value_counts().rename_axis('Make').reset_index(name='accident_cnt')"
   ]
  },
  {
   "cell_type": "code",
   "execution_count": 52,
   "metadata": {
    "scrolled": true
   },
   "outputs": [
    {
     "data": {
      "image/png": "[encoded data removed]",
      "text/plain": [
       "<Figure size 864x720 with 1 Axes>"
      ]
     },
     "metadata": {
      "needs_background": "light"
     },
     "output_type": "display_data"
    }
   ],
   "source": [
    "top20=accident_count.head(20)\n",
    "fig,ax=plt.subplots(figsize=(12,10))\n",
    "ax.barh(top20['Make'],top20['accident_cnt'])\n",
    "ax.invert_yaxis()\n",
    "ax.set_title('Top Aircraft Makes Involed in Accidents')\n",
    "ax.set_xlabel('Number of accidents since 1962')\n",
    "ax.set_ylabel('Make')\n",
    "ax.grid(True)\n",
    "plt.show()"
   ]
  },
  {
   "cell_type": "markdown",
   "metadata": {},
   "source": [
    "The chart above shows top twenty makes involved in major accidents reported since 1962. While high counts represent popularity they present areas for deeper dive into analysis."
   ]
  },
  {
   "cell_type": "code",
   "execution_count": 53,
   "metadata": {},
   "outputs": [
    {
     "data": {
      "image/png": "[encoded data removed]",
      "text/plain": [
       "<Figure size 864x720 with 1 Axes>"
      ]
     },
     "metadata": {
      "needs_background": "light"
     },
     "output_type": "display_data"
    }
   ],
   "source": [
    "#incidents by make analysis\n",
    "incident=data['Investigation.Type']=='Incident'\n",
    "incidents=data.loc[incident,'Make'].value_counts().rename_axis('Make').reset_index(name='incident_cnt')\n",
    "top20=incidents.head(20)\n",
    "fig,ax=plt.subplots(figsize=(12,10))\n",
    "ax.barh(top20['Make'],top20['incident_cnt'])\n",
    "ax.invert_yaxis()\n",
    "ax.set_title('Top Aircraft Makes Involed in Incidents')\n",
    "ax.set_xlabel('Number of incidents since 1962')\n",
    "ax.set_ylabel('Make')\n",
    "ax.grid(True)\n",
    "plt.show()"
   ]
  },
  {
   "cell_type": "markdown",
   "metadata": {},
   "source": [
    "Obs - The chart above shows top twenty makes involved in major incidents reported since 1962. While high counts represent popularity they present areas for deeper dive into analysis."
   ]
  },
  {
   "cell_type": "code",
   "execution_count": 54,
   "metadata": {
    "scrolled": true
   },
   "outputs": [
    {
     "data": {
      "image/png": "[encoded data removed]",
      "text/plain": [
       "<Figure size 720x576 with 1 Axes>"
      ]
     },
     "metadata": {
      "needs_background": "light"
     },
     "output_type": "display_data"
    }
   ],
   "source": [
    "#Aircrafts accidents and incidents per year\n",
    "data['Event.Date'] = pd.to_datetime(data['Event.Date'])\n",
    "data['Year']=data['Event.Date'].dt.year\n",
    "events_per_year=data.groupby(['Year','Investigation.Type']).size().unstack(fill_value=0)\n",
    "fig,ax=plt.subplots(figsize=(10,8))\n",
    "for event_type in events_per_year.columns:\n",
    "    ax.plot(events_per_year.index, events_per_year[event_type],marker='o',linewidth=2,label=event_type)\n",
    "ax.set_xlim(left=1980)\n",
    "ax.set_title('Aircraft Accidents and Incidents Over Time', fontsize=14)\n",
    "ax.set_xlabel('Year', fontsize=12)\n",
    "ax.set_ylabel('Number of Events', fontsize=12)\n",
    "ax.grid(True)\n",
    "ax.legend(title='Investigation Type')\n",
    "plt.show()\n"
   ]
  },
  {
   "cell_type": "code",
   "execution_count": 55,
   "metadata": {},
   "outputs": [
    {
     "data": {
      "image/png": "[encoded data removed]",
      "text/plain": [
       "<Figure size 1008x576 with 1 Axes>"
      ]
     },
     "metadata": {
      "needs_background": "light"
     },
     "output_type": "display_data"
    }
   ],
   "source": [
    "#Assessing number of accidents and incidents by number of engines over time\n",
    "data['Event.Date'] = pd.to_datetime(data['Event.Date'], errors='coerce')\n",
    "data['Year'] = data['Event.Date'].dt.year\n",
    "yearly_engines = (data.groupby(['Year', 'Number.of.Engines']).size().unstack(fill_value=0)      .sort_index()            )\n",
    "plt.figure(figsize=(14, 8))\n",
    "palette = plt.cm.get_cmap('tab20c', yearly_engines.shape[1])\n",
    "colors = [palette(i) for i in range(yearly_engines.shape[1])]\n",
    "yearly_engines.plot.area(stacked=True,color=colors,alpha=0.8,ax=plt.gca())\n",
    "plt.title('Aircraft Events by Number of Engines ({}–{})'.format(yearly_engines.index.min(), yearly_engines.index.max()),fontsize=16)\n",
    "plt.xlabel('Year', fontsize=12)\n",
    "plt.ylabel('Number of Events (Accidents + Incidents)', fontsize=12)\n",
    "plt.grid(True, alpha=0.3)\n",
    "plt.xlim(left=yearly_engines.index.min())\n",
    "plt.legend(title='Number of Engines',frameon=False,ncol=2,title_fontsize=12,fontsize=10)\n",
    "plt.show()\n"
   ]
  },
  {
   "cell_type": "code",
   "execution_count": 56,
   "metadata": {},
   "outputs": [
    {
     "data": {
      "image/png": "[encoded data removed]",
      "text/plain": [
       "<Figure size 720x432 with 2 Axes>"
      ]
     },
     "metadata": {
      "needs_background": "light"
     },
     "output_type": "display_data"
    }
   ],
   "source": [
    "#Assessing total fatal injuries by weather condition and engine type\n",
    "pivot_table = data.pivot_table(index='Weather.Condition',columns='Engine.Type',values='Total.Fatal.Injuries',aggfunc='sum',fill_value=0)\n",
    "plt.figure(figsize=(10, 6))\n",
    "sns.heatmap(pivot_table,annot=True, cmap='bwr_r', linewidths=.5)\n",
    "plt.title('Heatmap of Total Fatal Injuries by Weather Condition and Engine Type')\n",
    "plt.xlabel('Engine Type')\n",
    "plt.ylabel('Weather Condition')\n",
    "plt.show()"
   ]
  },
  {
   "cell_type": "markdown",
   "metadata": {},
   "source": [
    "First Unk and UNK from weather condition and engine type respectively represent no record taken. Diving into observation there is a relationship between the type of engine and weather codition. For instance taking the Reciprocating engine it has a high number of accidents during the VMC weather condition an compared to IMC. this shows that different engine type  is affected by different weather conditions while other like the electric and LR are not affected.Also aircrafts with no engines are not affected by weather condition like from above none has no accidents on any weather condition."
   ]
  },
  {
   "cell_type": "code",
   "execution_count": 57,
   "metadata": {},
   "outputs": [
    {
     "data": {
      "image/png": "[encoded data removed]",
      "text/plain": [
       "<Figure size 720x432 with 2 Axes>"
      ]
     },
     "metadata": {
      "needs_background": "light"
     },
     "output_type": "display_data"
    }
   ],
   "source": [
    "#purpose of flight invovment in accident\n",
    "purpose_counts = data['Purpose.of.flight'].value_counts().head(20).sort_values()\n",
    "heatmap_data = pd.DataFrame(purpose_counts).reset_index()\n",
    "heatmap_data.columns = ['Purpose of Flight', 'Number of Accidents']\n",
    "plt.figure(figsize=(10, 6))\n",
    "sns.heatmap(heatmap_data.set_index('Purpose of Flight').T, cmap='Greens', annot=True, fmt='d')\n",
    "plt.xlabel('Purpose of Flight')\n",
    "plt.ylabel('Number of Accidents')\n",
    "plt.title('Top 20 Purposes of Flight Involved in Accidents')\n",
    "plt.show()\n",
    "\n"
   ]
  },
  {
   "cell_type": "markdown",
   "metadata": {},
   "source": [
    "From the above personal purpose seem to have the highest number of accidents followed by instructional.Unknown are the missing values i had in the dataset had to name them that instead of droping the rows to enhance consistency. Other purposes business included seem to have moderate to few counts of accidents."
   ]
  },
  {
   "cell_type": "code",
   "execution_count": 58,
   "metadata": {
    "scrolled": true
   },
   "outputs": [
    {
     "data": {
      "image/png": "[encoded data removed]",
      "text/plain": [
       "<Figure size 720x576 with 1 Axes>"
      ]
     },
     "metadata": {
      "needs_background": "light"
     },
     "output_type": "display_data"
    }
   ],
   "source": [
    "#Assessing aircraft damage by make\n",
    "top_20_makes = data['Make'].value_counts().head(20).index\n",
    "filtered_df = data[data['Make'].isin(top_20_makes)]\n",
    "stacked_data = filtered_df.pivot_table(index='Make',columns='Aircraft.damage',aggfunc='size',fill_value=0)\n",
    "stacked_data.plot(kind='barh', stacked=True, figsize=(10, 8))\n",
    "plt.title('Aircraft Damage Severity by Top 20 Makes')\n",
    "plt.xlabel('Aircraft Make')\n",
    "plt.ylabel('Number of Incidents')\n",
    "plt.legend(title='Damage Level')\n",
    "plt.tight_layout()\n",
    "plt.show()\n"
   ]
  },
  {
   "cell_type": "markdown",
   "metadata": {},
   "source": [
    "From the above it can be observed that CESSNA and PIPER are leading in aircraft damage with CESSNA leading in destroyed,minor, and substantial damages. Other makes seem to have minimal damage cases. "
   ]
  },
  {
   "cell_type": "code",
   "execution_count": 59,
   "metadata": {},
   "outputs": [
    {
     "data": {
      "image/png": "[encoded data removed]",
      "text/plain": [
       "<Figure size 864x720 with 1 Axes>"
      ]
     },
     "metadata": {
      "needs_background": "light"
     },
     "output_type": "display_data"
    }
   ],
   "source": [
    "#Assessing purpose of flight to Aircraft damage\n",
    "combo_counts = pd.crosstab(data['Purpose.of.flight'], data['Aircraft.damage'])\n",
    "combo_counts = combo_counts.loc[combo_counts.sum(axis=1).nlargest(10).index]\n",
    "dat = combo_counts.stack().reset_index()\n",
    "dat.columns = ['Purpose', 'Damage', 'Count']\n",
    "plt.figure(figsize=(12, 10))\n",
    "for i in range(len(dat)):\n",
    "    plt.scatter(dat['Damage'][i],dat['Purpose'][i],s=dat['Count'][i]*10,color='violet',alpha=0.6,edgecolors='black')\n",
    "for i in range(len(dat)):\n",
    "    plt.text(dat['Damage'][i],dat['Purpose'][i],str(dat['Count'][i]),fontsize=8,ha='center', va='center')\n",
    "plt.title('Aircraft Damage Severity by Purpose of Flight Top 10')\n",
    "plt.xlabel('Damage Level')\n",
    "plt.ylabel('Purpose of Flight')\n",
    "plt.tight_layout()\n",
    "plt.show()\n"
   ]
  },
  {
   "cell_type": "code",
   "execution_count": 60,
   "metadata": {},
   "outputs": [
    {
     "data": {
      "image/png": "[encoded data removed]",
      "text/plain": [
       "<Figure size 864x576 with 1 Axes>"
      ]
     },
     "metadata": {
      "needs_background": "light"
     },
     "output_type": "display_data"
    }
   ],
   "source": [
    "#injury by make and model\n",
    "injury_cols = ['Total.Fatal.Injuries', 'Total.Serious.Injuries', 'Total.Minor.Injuries', 'Total.Uninjured']\n",
    "injury_summary = data.groupby(['Make', 'Model'], as_index=False)[injury_cols].sum()\n",
    "top_injury_makes = injury_summary.sort_values(by='Total.Fatal.Injuries', ascending=False).head(10)\n",
    "injury_melted = top_injury_makes.melt(id_vars=['Make', 'Model'],value_vars=injury_cols,var_name='Injury_Type', value_name='Count')\n",
    "injury_melted['Aircraft'] = injury_melted['Make'] + \" - \" + injury_melted['Model']\n",
    "plt.figure(figsize=(12,8))\n",
    "sns.barplot(data=injury_melted, x='Count', y='Aircraft', hue='Injury_Type')\n",
    "plt.title('Injury Type Counts by Aircraft Make & Model')\n",
    "plt.xlabel('Number of Injuries')\n",
    "plt.ylabel('Aircraft (Make - Model)')\n",
    "plt.legend(title='Injury Type')\n",
    "plt.tight_layout()\n",
    "plt.show()\n"
   ]
  },
  {
   "cell_type": "markdown",
   "metadata": {},
   "source": [
    "The observation made above from different models and their specific makes shows the extent of injuries each one of them caused during the accident. From each model the number of total fatal, total serious, total minor, and uninjured injuries can be seen clearly. CESSNA seem to have the highest of all the injuries summing the different models it has."
   ]
  },
  {
   "cell_type": "code",
   "execution_count": 61,
   "metadata": {},
   "outputs": [
    {
     "data": {
      "image/png": "[encoded data removed]",
      "text/plain": [
       "<Figure size 864x432 with 1 Axes>"
      ]
     },
     "metadata": {
      "needs_background": "light"
     },
     "output_type": "display_data"
    }
   ],
   "source": [
    "#Assessing phase of flight to accidents\n",
    "phase_counts = data['Broad.phase.of.flight'].value_counts()\n",
    "plt.figure(figsize=(12, 6))\n",
    "plt.step(range(len(phase_counts)), phase_counts.values, where='mid', color='indigo', linewidth=2)\n",
    "plt.scatter(range(len(phase_counts)), phase_counts.values, color='darkorange', s=100)\n",
    "# Label values\n",
    "for i, val in enumerate(phase_counts.values):\n",
    "    plt.text(i, val + 5, str(val), ha='center', fontsize=9)\n",
    "plt.xticks(ticks=range(len(phase_counts)), labels=phase_counts.index, rotation=45)\n",
    "plt.xlabel('Phase of Flight')\n",
    "plt.ylabel('Number of Accidents')\n",
    "plt.title('Aircraft Accidents by Phase of Flight (Step Plot)')\n",
    "plt.grid(True, linestyle='--', alpha=0.5)\n",
    "plt.show()\n"
   ]
  },
  {
   "cell_type": "markdown",
   "metadata": {},
   "source": [
    "Unknown is all the values that were missing decided to keep it to enhance consistency in my data. An observation is made, many accidents happen during the landing phase followed by takeoff,maneuuverung,approach while others seem to have moderate accidents."
   ]
  },
  {
   "cell_type": "code",
   "execution_count": 66,
   "metadata": {
    "scrolled": true
   },
   "outputs": [
    {
     "data": {
      "text/plain": [
       "<Figure size 864x576 with 0 Axes>"
      ]
     },
     "metadata": {},
     "output_type": "display_data"
    },
    {
     "data": {
      "image/png": "[encoded data removed]",
      "text/plain": [
       "<Figure size 432x288 with 1 Axes>"
      ]
     },
     "metadata": {
      "needs_background": "light"
     },
     "output_type": "display_data"
    }
   ],
   "source": [
    "# Calculate percentages for each weather condition\n",
    "cross_tab = pd.crosstab(index=data['Weather.Condition'],columns=data['Investigation.Type'],margins=False ) \n",
    "percentage_tab = pd.crosstab(index=data['Weather.Condition'],columns=data['Investigation.Type'],normalize='index'     ) * 100\n",
    "plt.figure(figsize=(12, 8))\n",
    "percentage_tab.plot(kind='bar', stacked=True, colormap='coolwarm')\n",
    "plt.title('Percentage Distribution of Investigation Types by Weather Condition')\n",
    "plt.xlabel('Weather Condition')\n",
    "plt.ylabel('Percentage (%)')\n",
    "plt.legend(title='Investigation Type', loc='upper left')\n",
    "plt.xticks(rotation=45)\n",
    "plt.show()\n"
   ]
  },
  {
   "cell_type": "markdown",
   "metadata": {},
   "source": [
    "The Unk stands for values that were missing so we'll ignore it in our conclusions. UNK were records recoded but not given a specific clasification. Overall VMC seem to cause the higest number of accidents and a few incidents. On the other hand IMC has slightly lower percentage of accidents."
   ]
  },
  {
   "cell_type": "code",
   "execution_count": null,
   "metadata": {},
   "outputs": [],
   "source": [
    "data['Engine.Type'].unique()"
   ]
  },
  {
   "cell_type": "code",
   "execution_count": null,
   "metadata": {},
   "outputs": [],
   "source": [
    "def clean_engine_type(value):\n",
    "    value = str(value).strip().title()\n",
    "    if value in ['UKN']:\n",
    "        return 'Unknown'\n",
    "    return value\n",
    "data['Engine.Type'] = data['Engine.Type'].apply(clean_engine_type)"
   ]
  },
  {
   "cell_type": "code",
   "execution_count": null,
   "metadata": {
    "scrolled": true
   },
   "outputs": [],
   "source": [
    "#Assessing number of accidents by engine type\n",
    "engine_counts = data['Engine.Type'].value_counts()\n",
    "labels = engine_counts.index\n",
    "values = engine_counts.values\n",
    "# Converting to radians\n",
    "angles = np.linspace(0, 2 * np.pi, len(labels), endpoint=False)\n",
    "fig, ax = plt.subplots(figsize=(8, 8), subplot_kw=dict(polar=True))\n",
    "bars = ax.bar(angles, values, width=0.4, color='darkgreen', alpha=0.7)\n",
    "ax.set_xticks(angles)\n",
    "ax.set_xticklabels(labels)\n",
    "ax.set_yticklabels([])\n",
    "plt.title('Number of Accidents by Engine Type', y=1.1)\n",
    "plt.show()\n"
   ]
  },
  {
   "cell_type": "markdown",
   "metadata": {},
   "source": [
    "Its clear from the above, Reciprocating engine has the lagest number of accidents followed by Turbo Shaft, and Turbo Prop. The rest have very minimal thats why they are not visible from our poler view."
   ]
  },
  {
   "cell_type": "code",
   "execution_count": null,
   "metadata": {},
   "outputs": [],
   "source": [
    "#Scatter matrix for all the columns with numeric data\n",
    "numerical_cols = data.select_dtypes(include=[np.number])\n",
    "axes = pd.plotting.scatter_matrix(numerical_cols, alpha=0.6,figsize=(15, 12),diagonal='hist',  density_kwds={'color': 'blue'}hist_kwds={'bins': 20, 'alpha': 0.7})\n",
    "plt.suptitle('Scatter Matrix of Numerical Columns', fontsize=16, y=0.95)\n",
    "plt.tight_layout()\n",
    "plt.show()\n"
   ]
  },
  {
   "cell_type": "markdown",
   "metadata": {},
   "source": [
    "From the visual above we can see how different fields relate to each other."
   ]
  },
  {
   "cell_type": "code",
   "execution_count": null,
   "metadata": {},
   "outputs": [],
   "source": [
    "data.to_csv('clean_data.csv',index=False,encoding='utf-8-sig')"
   ]
  }
 ],
 "metadata": {
  "kernelspec": {
   "display_name": "Python (learn-env)",
   "language": "python",
   "name": "learn-env"
  },
  "language_info": {
   "codemirror_mode": {
    "name": "ipython",
    "version": 3
   },
   "file_extension": ".py",
   "mimetype": "text/x-python",
   "name": "python",
   "nbconvert_exporter": "python",
   "pygments_lexer": "ipython3",
   "version": "3.8.5"
  }
 },
 "nbformat": 4,
 "nbformat_minor": 4
}
